{
 "cells": [
  {
   "cell_type": "markdown",
   "metadata": {},
   "source": [
    "# Using link function for more generalized models"
   ]
  },
  {
   "cell_type": "code",
   "execution_count": 113,
   "metadata": {},
   "outputs": [],
   "source": [
    "from cmdstanpy import CmdStanModel\n",
    "\n",
    "import arviz as az\n",
    "import numpy as np\n",
    "import scipy.stats as stats\n",
    "\n",
    "import matplotlib.pyplot as plt\n",
    "import pandas as pd\n",
    "\n",
    "import seaborn as sns"
   ]
  },
  {
   "cell_type": "markdown",
   "metadata": {},
   "source": [
    "## Visualizing the data  \n",
    "\n",
    "Visualizing the data can help us predict model parameters."
   ]
  },
  {
   "cell_type": "code",
   "execution_count": 114,
   "metadata": {},
   "outputs": [],
   "source": [
    "data = pd.read_csv(\"./Airline_data.csv\")"
   ]
  },
  {
   "cell_type": "code",
   "execution_count": 115,
   "metadata": {},
   "outputs": [
    {
     "data": {
      "text/html": [
       "<div>\n",
       "<style scoped>\n",
       "    .dataframe tbody tr th:only-of-type {\n",
       "        vertical-align: middle;\n",
       "    }\n",
       "\n",
       "    .dataframe tbody tr th {\n",
       "        vertical-align: top;\n",
       "    }\n",
       "\n",
       "    .dataframe thead th {\n",
       "        text-align: right;\n",
       "    }\n",
       "</style>\n",
       "<table border=\"1\" class=\"dataframe\">\n",
       "  <thead>\n",
       "    <tr style=\"text-align: right;\">\n",
       "      <th></th>\n",
       "      <th>Year</th>\n",
       "      <th>Fatal accidents</th>\n",
       "      <th>Passenger deaths</th>\n",
       "      <th>Miles flown [100 mln miles]</th>\n",
       "    </tr>\n",
       "  </thead>\n",
       "  <tbody>\n",
       "    <tr>\n",
       "      <th>0</th>\n",
       "      <td>1976</td>\n",
       "      <td>24</td>\n",
       "      <td>734</td>\n",
       "      <td>3863.0</td>\n",
       "    </tr>\n",
       "    <tr>\n",
       "      <th>1</th>\n",
       "      <td>1977</td>\n",
       "      <td>25</td>\n",
       "      <td>516</td>\n",
       "      <td>4300.0</td>\n",
       "    </tr>\n",
       "    <tr>\n",
       "      <th>2</th>\n",
       "      <td>1978</td>\n",
       "      <td>31</td>\n",
       "      <td>754</td>\n",
       "      <td>5027.0</td>\n",
       "    </tr>\n",
       "    <tr>\n",
       "      <th>3</th>\n",
       "      <td>1979</td>\n",
       "      <td>31</td>\n",
       "      <td>877</td>\n",
       "      <td>5481.0</td>\n",
       "    </tr>\n",
       "    <tr>\n",
       "      <th>4</th>\n",
       "      <td>1980</td>\n",
       "      <td>22</td>\n",
       "      <td>814</td>\n",
       "      <td>5814.0</td>\n",
       "    </tr>\n",
       "  </tbody>\n",
       "</table>\n",
       "</div>"
      ],
      "text/plain": [
       "   Year  Fatal accidents  Passenger deaths  Miles flown [100 mln miles]\n",
       "0  1976               24               734                       3863.0\n",
       "1  1977               25               516                       4300.0\n",
       "2  1978               31               754                       5027.0\n",
       "3  1979               31               877                       5481.0\n",
       "4  1980               22               814                       5814.0"
      ]
     },
     "execution_count": 115,
     "metadata": {},
     "output_type": "execute_result"
    }
   ],
   "source": [
    "data.head(5)"
   ]
  },
  {
   "cell_type": "code",
   "execution_count": 116,
   "metadata": {},
   "outputs": [
    {
     "data": {
      "text/html": [
       "<div>\n",
       "<style scoped>\n",
       "    .dataframe tbody tr th:only-of-type {\n",
       "        vertical-align: middle;\n",
       "    }\n",
       "\n",
       "    .dataframe tbody tr th {\n",
       "        vertical-align: top;\n",
       "    }\n",
       "\n",
       "    .dataframe thead th {\n",
       "        text-align: right;\n",
       "    }\n",
       "</style>\n",
       "<table border=\"1\" class=\"dataframe\">\n",
       "  <thead>\n",
       "    <tr style=\"text-align: right;\">\n",
       "      <th></th>\n",
       "      <th>Year</th>\n",
       "      <th>Fatal accidents</th>\n",
       "      <th>Passenger deaths</th>\n",
       "      <th>Miles flown [100 mln miles]</th>\n",
       "    </tr>\n",
       "  </thead>\n",
       "  <tbody>\n",
       "    <tr>\n",
       "      <th>count</th>\n",
       "      <td>10.00000</td>\n",
       "      <td>10.000000</td>\n",
       "      <td>10.000000</td>\n",
       "      <td>10.000000</td>\n",
       "    </tr>\n",
       "    <tr>\n",
       "      <th>mean</th>\n",
       "      <td>1980.50000</td>\n",
       "      <td>23.800000</td>\n",
       "      <td>691.900000</td>\n",
       "      <td>5715.800000</td>\n",
       "    </tr>\n",
       "    <tr>\n",
       "      <th>std</th>\n",
       "      <td>3.02765</td>\n",
       "      <td>4.709329</td>\n",
       "      <td>252.389228</td>\n",
       "      <td>1117.767795</td>\n",
       "    </tr>\n",
       "    <tr>\n",
       "      <th>min</th>\n",
       "      <td>1976.00000</td>\n",
       "      <td>16.000000</td>\n",
       "      <td>223.000000</td>\n",
       "      <td>3863.000000</td>\n",
       "    </tr>\n",
       "    <tr>\n",
       "      <th>25%</th>\n",
       "      <td>1978.25000</td>\n",
       "      <td>21.250000</td>\n",
       "      <td>570.500000</td>\n",
       "      <td>5140.500000</td>\n",
       "    </tr>\n",
       "    <tr>\n",
       "      <th>50%</th>\n",
       "      <td>1980.50000</td>\n",
       "      <td>23.000000</td>\n",
       "      <td>759.000000</td>\n",
       "      <td>5845.500000</td>\n",
       "    </tr>\n",
       "    <tr>\n",
       "      <th>75%</th>\n",
       "      <td>1982.75000</td>\n",
       "      <td>25.750000</td>\n",
       "      <td>812.750000</td>\n",
       "      <td>6175.500000</td>\n",
       "    </tr>\n",
       "    <tr>\n",
       "      <th>max</th>\n",
       "      <td>1985.00000</td>\n",
       "      <td>31.000000</td>\n",
       "      <td>1066.000000</td>\n",
       "      <td>7433.000000</td>\n",
       "    </tr>\n",
       "  </tbody>\n",
       "</table>\n",
       "</div>"
      ],
      "text/plain": [
       "             Year  Fatal accidents  Passenger deaths  \\\n",
       "count    10.00000        10.000000         10.000000   \n",
       "mean   1980.50000        23.800000        691.900000   \n",
       "std       3.02765         4.709329        252.389228   \n",
       "min    1976.00000        16.000000        223.000000   \n",
       "25%    1978.25000        21.250000        570.500000   \n",
       "50%    1980.50000        23.000000        759.000000   \n",
       "75%    1982.75000        25.750000        812.750000   \n",
       "max    1985.00000        31.000000       1066.000000   \n",
       "\n",
       "       Miles flown [100 mln miles]  \n",
       "count                    10.000000  \n",
       "mean                   5715.800000  \n",
       "std                    1117.767795  \n",
       "min                    3863.000000  \n",
       "25%                    5140.500000  \n",
       "50%                    5845.500000  \n",
       "75%                    6175.500000  \n",
       "max                    7433.000000  "
      ]
     },
     "execution_count": 116,
     "metadata": {},
     "output_type": "execute_result"
    }
   ],
   "source": [
    "data.describe()"
   ]
  },
  {
   "cell_type": "code",
   "execution_count": 117,
   "metadata": {},
   "outputs": [],
   "source": [
    "years = data[\"Year\"][:]\n",
    "accidents = data[\"Fatal accidents\"][:]\n",
    "deaths = data[\"Passenger deaths\"][:]\n",
    "miles_flown = data[\"Miles flown [100 mln miles]\"][:]"
   ]
  },
  {
   "cell_type": "code",
   "execution_count": 118,
   "metadata": {},
   "outputs": [
    {
     "data": {
      "text/plain": [
       "0    1976\n",
       "1    1977\n",
       "2    1978\n",
       "3    1979\n",
       "4    1980\n",
       "Name: Year, dtype: int64"
      ]
     },
     "execution_count": 118,
     "metadata": {},
     "output_type": "execute_result"
    }
   ],
   "source": [
    "years.head(5) # to check if the data was extracted correctly"
   ]
  },
  {
   "cell_type": "code",
   "execution_count": 119,
   "metadata": {},
   "outputs": [
    {
     "data": {
      "text/plain": [
       "count    10.000000\n",
       "mean     23.800000\n",
       "std       4.709329\n",
       "min      16.000000\n",
       "25%      21.250000\n",
       "50%      23.000000\n",
       "75%      25.750000\n",
       "max      31.000000\n",
       "Name: Fatal accidents, dtype: float64"
      ]
     },
     "execution_count": 119,
     "metadata": {},
     "output_type": "execute_result"
    }
   ],
   "source": [
    "accidents.describe()"
   ]
  },
  {
   "cell_type": "code",
   "execution_count": 120,
   "metadata": {},
   "outputs": [
    {
     "data": {
      "text/plain": [
       "count      10.000000\n",
       "mean     5715.800000\n",
       "std      1117.767795\n",
       "min      3863.000000\n",
       "25%      5140.500000\n",
       "50%      5845.500000\n",
       "75%      6175.500000\n",
       "max      7433.000000\n",
       "Name: Miles flown [100 mln miles], dtype: float64"
      ]
     },
     "execution_count": 120,
     "metadata": {},
     "output_type": "execute_result"
    }
   ],
   "source": [
    "miles_flown.describe()"
   ]
  },
  {
   "cell_type": "markdown",
   "metadata": {},
   "source": [
    "Because those values for \"miles_flown\" are in the order of 10e12 (100 mln * 1e3), it would be helpful to use 10e12 as our unit. This way, the values will be easier to work with."
   ]
  },
  {
   "cell_type": "code",
   "execution_count": 121,
   "metadata": {},
   "outputs": [
    {
     "data": {
      "text/plain": [
       "count    10.000000\n",
       "mean      5.715800\n",
       "std       1.117768\n",
       "min       3.863000\n",
       "25%       5.140500\n",
       "50%       5.845500\n",
       "75%       6.175500\n",
       "max       7.433000\n",
       "Name: Miles flown [10e12], dtype: float64"
      ]
     },
     "execution_count": 121,
     "metadata": {},
     "output_type": "execute_result"
    }
   ],
   "source": [
    "miles_flown_scaled = miles_flown.rename(\"Miles flown [10e12]\", inplace=False)\n",
    "miles_flown_scaled = miles_flown_scaled / 1000.0\n",
    "miles_flown_scaled.describe()"
   ]
  },
  {
   "cell_type": "markdown",
   "metadata": {},
   "source": [
    "This range of values will be much more comfortable to work with.  \n",
    "\n",
    "Also, centering the data around the mean value can help with model robustness, so let's create a data series that's centered."
   ]
  },
  {
   "cell_type": "code",
   "execution_count": 122,
   "metadata": {},
   "outputs": [
    {
     "data": {
      "text/plain": [
       "count    1.000000e+01\n",
       "mean     1.776357e-16\n",
       "std      1.117768e+00\n",
       "min     -1.852800e+00\n",
       "25%     -5.753000e-01\n",
       "50%      1.297000e-01\n",
       "75%      4.597000e-01\n",
       "max      1.717200e+00\n",
       "Name: Miles flown centered, dtype: float64"
      ]
     },
     "execution_count": 122,
     "metadata": {},
     "output_type": "execute_result"
    }
   ],
   "source": [
    "miles_flown_scaled_centered = miles_flown_scaled.rename(\"Miles flown centered\", inplace=False)\n",
    "miles_flown_scaled_centered = miles_flown_scaled_centered - miles_flown_scaled_centered.mean()\n",
    "miles_flown_scaled_centered.describe()"
   ]
  },
  {
   "cell_type": "markdown",
   "metadata": {},
   "source": [
    "Lets note that mean for this data is ~0, std ~1 (for later ppc)."
   ]
  },
  {
   "cell_type": "markdown",
   "metadata": {},
   "source": [
    "## Proposed model"
   ]
  },
  {
   "cell_type": "markdown",
   "metadata": {},
   "source": [
    "$$ y_i\\sim\\mathrm{Poisson}(\\underbrace{\\exp(\\alpha+\\theta (n_i-n_{mean}))}_{\\lambda_i})$$  \n",
    "$$\\log \\lambda_i=\\alpha+\\theta (n_i-n_{mean})$$"
   ]
  },
  {
   "cell_type": "markdown",
   "metadata": {},
   "source": [
    "Where $n_i$ the ammount of miles flown the year. We're trying to predict $y_i$ - number of accidents.\n",
    "\n",
    "Since we're working with log scale, the range for $n$ parameter must be chosen carefully.\n",
    "\n",
    "$ y_i\\sim\\mathrm{Poisson}(\\lambda_i)$  \n",
    "$\\log \\lambda_i=\\alpha+\\theta (n_i-n_{mean})$  \n",
    "$bounds_{low} < \\log \\lambda_i < bounds_{high}$  \n",
    "$bounds_{low} < \\alpha+\\theta (n_i-n_{mean}) < bounds_{high}$  \n",
    "\n",
    "So this comes down to solving a linear equation."
   ]
  },
  {
   "cell_type": "code",
   "execution_count": 123,
   "metadata": {},
   "outputs": [
    {
     "name": "stdout",
     "output_type": "stream",
     "text": [
      "theta: 0.3883177482128545\n",
      "alpha: 3.0220602168828226\n"
     ]
    }
   ],
   "source": [
    "# from data visualization we know the range of n (miles flown) and the rough output range \n",
    "\n",
    "bounds = (10, 40) # min/max from dataset if 16/31, so let's round down/up for ppc model parameters\n",
    "\n",
    "# n - miles centered\n",
    "n_max = miles_flown_scaled_centered.max()\n",
    "n_min = miles_flown_scaled_centered.min()\n",
    "\n",
    "theta = (np.log(bounds[1]) - np.log(bounds[0])) / (n_max - n_min) # slope\n",
    "alpha = np.log(bounds[0]) - theta * n_min # intercept\n",
    "\n",
    "print(f\"theta: {theta}\\nalpha: {alpha}\")"
   ]
  },
  {
   "cell_type": "markdown",
   "metadata": {},
   "source": [
    "### Prior predictive checks"
   ]
  },
  {
   "cell_type": "code",
   "execution_count": 124,
   "metadata": {},
   "outputs": [
    {
     "name": "stdout",
     "output_type": "stream",
     "text": [
      "Overwriting ppc/airline_1_ppc.stan\n"
     ]
    }
   ],
   "source": [
    "%%writefile ppc/airline_1_ppc.stan\n",
    "\n",
    "generated quantities {\n",
    "    real alpha = normal_rng(3, 3.0 / 3.0); // using 30% of the value as std\n",
    "    real theta = normal_rng(0.4, 0.4 / 3.0); // as above\n",
    "    real n = normal_rng(0, 1); // from centered, scaled data - see the note a couple of cells above\n",
    "    real l = exp(alpha + theta * n); // lambda_i\n",
    "    real accidents = poisson_rng(l);\n",
    "}"
   ]
  },
  {
   "cell_type": "code",
   "execution_count": 125,
   "metadata": {},
   "outputs": [
    {
     "name": "stderr",
     "output_type": "stream",
     "text": [
      "INFO:cmdstanpy:compiling stan file /home/labs/DataAnalytics2023/Lab5/ppc/airline_1_ppc.stan to exe file /home/labs/DataAnalytics2023/Lab5/ppc/airline_1_ppc\n"
     ]
    },
    {
     "name": "stderr",
     "output_type": "stream",
     "text": [
      "INFO:cmdstanpy:compiled model executable: /home/labs/DataAnalytics2023/Lab5/ppc/airline_1_ppc\n"
     ]
    }
   ],
   "source": [
    "airline_1_ppc_model = CmdStanModel(stan_file=\"./ppc/airline_1_ppc.stan\")"
   ]
  },
  {
   "cell_type": "code",
   "execution_count": 126,
   "metadata": {},
   "outputs": [
    {
     "name": "stderr",
     "output_type": "stream",
     "text": [
      "INFO:cmdstanpy:CmdStan start processing\n",
      "chain 1 |\u001b[33m          \u001b[0m| 00:00 Status"
     ]
    },
    {
     "name": "stderr",
     "output_type": "stream",
     "text": [
      "chain 1 |\u001b[34m██████████\u001b[0m| 00:00 Sampling completed"
     ]
    },
    {
     "name": "stdout",
     "output_type": "stream",
     "text": [
      "                                                                                "
     ]
    },
    {
     "name": "stderr",
     "output_type": "stream",
     "text": [
      "\n",
      "INFO:cmdstanpy:CmdStan done processing.\n"
     ]
    },
    {
     "name": "stdout",
     "output_type": "stream",
     "text": [
      "\n"
     ]
    }
   ],
   "source": [
    "R = 1000\n",
    "ppc_sim = airline_1_ppc_model.sample(iter_sampling=R,\n",
    "                                     iter_warmup=0,\n",
    "                                     chains=1,\n",
    "                                     fixed_param=True,\n",
    "                                     seed=12072023,\n",
    "                                     refresh=R)"
   ]
  },
  {
   "cell_type": "code",
   "execution_count": 127,
   "metadata": {},
   "outputs": [
    {
     "data": {
      "text/html": [
       "<div>\n",
       "<style scoped>\n",
       "    .dataframe tbody tr th:only-of-type {\n",
       "        vertical-align: middle;\n",
       "    }\n",
       "\n",
       "    .dataframe tbody tr th {\n",
       "        vertical-align: top;\n",
       "    }\n",
       "\n",
       "    .dataframe thead th {\n",
       "        text-align: right;\n",
       "    }\n",
       "</style>\n",
       "<table border=\"1\" class=\"dataframe\">\n",
       "  <thead>\n",
       "    <tr style=\"text-align: right;\">\n",
       "      <th></th>\n",
       "      <th>lp__</th>\n",
       "      <th>accept_stat__</th>\n",
       "      <th>alpha</th>\n",
       "      <th>theta</th>\n",
       "      <th>n</th>\n",
       "      <th>l</th>\n",
       "      <th>accidents</th>\n",
       "    </tr>\n",
       "  </thead>\n",
       "  <tbody>\n",
       "    <tr>\n",
       "      <th>count</th>\n",
       "      <td>1000.0</td>\n",
       "      <td>1000.0</td>\n",
       "      <td>1000.000000</td>\n",
       "      <td>1000.000000</td>\n",
       "      <td>1000.000000</td>\n",
       "      <td>1000.000000</td>\n",
       "      <td>1000.000000</td>\n",
       "    </tr>\n",
       "    <tr>\n",
       "      <th>mean</th>\n",
       "      <td>0.0</td>\n",
       "      <td>0.0</td>\n",
       "      <td>3.007112</td>\n",
       "      <td>0.398625</td>\n",
       "      <td>-0.030053</td>\n",
       "      <td>37.603141</td>\n",
       "      <td>37.465000</td>\n",
       "    </tr>\n",
       "    <tr>\n",
       "      <th>std</th>\n",
       "      <td>0.0</td>\n",
       "      <td>0.0</td>\n",
       "      <td>1.018550</td>\n",
       "      <td>0.139880</td>\n",
       "      <td>1.022713</td>\n",
       "      <td>51.397598</td>\n",
       "      <td>51.584258</td>\n",
       "    </tr>\n",
       "    <tr>\n",
       "      <th>min</th>\n",
       "      <td>0.0</td>\n",
       "      <td>0.0</td>\n",
       "      <td>-0.291135</td>\n",
       "      <td>-0.040258</td>\n",
       "      <td>-3.764440</td>\n",
       "      <td>0.790769</td>\n",
       "      <td>0.000000</td>\n",
       "    </tr>\n",
       "    <tr>\n",
       "      <th>25%</th>\n",
       "      <td>0.0</td>\n",
       "      <td>0.0</td>\n",
       "      <td>2.344230</td>\n",
       "      <td>0.308451</td>\n",
       "      <td>-0.713321</td>\n",
       "      <td>9.330815</td>\n",
       "      <td>9.000000</td>\n",
       "    </tr>\n",
       "    <tr>\n",
       "      <th>50%</th>\n",
       "      <td>0.0</td>\n",
       "      <td>0.0</td>\n",
       "      <td>3.004635</td>\n",
       "      <td>0.396056</td>\n",
       "      <td>-0.030398</td>\n",
       "      <td>20.091650</td>\n",
       "      <td>19.000000</td>\n",
       "    </tr>\n",
       "    <tr>\n",
       "      <th>75%</th>\n",
       "      <td>0.0</td>\n",
       "      <td>0.0</td>\n",
       "      <td>3.692943</td>\n",
       "      <td>0.488843</td>\n",
       "      <td>0.646473</td>\n",
       "      <td>44.608225</td>\n",
       "      <td>43.000000</td>\n",
       "    </tr>\n",
       "    <tr>\n",
       "      <th>max</th>\n",
       "      <td>0.0</td>\n",
       "      <td>0.0</td>\n",
       "      <td>6.035960</td>\n",
       "      <td>0.786661</td>\n",
       "      <td>3.052620</td>\n",
       "      <td>416.137000</td>\n",
       "      <td>423.000000</td>\n",
       "    </tr>\n",
       "  </tbody>\n",
       "</table>\n",
       "</div>"
      ],
      "text/plain": [
       "         lp__  accept_stat__        alpha        theta            n  \\\n",
       "count  1000.0         1000.0  1000.000000  1000.000000  1000.000000   \n",
       "mean      0.0            0.0     3.007112     0.398625    -0.030053   \n",
       "std       0.0            0.0     1.018550     0.139880     1.022713   \n",
       "min       0.0            0.0    -0.291135    -0.040258    -3.764440   \n",
       "25%       0.0            0.0     2.344230     0.308451    -0.713321   \n",
       "50%       0.0            0.0     3.004635     0.396056    -0.030398   \n",
       "75%       0.0            0.0     3.692943     0.488843     0.646473   \n",
       "max       0.0            0.0     6.035960     0.786661     3.052620   \n",
       "\n",
       "                 l    accidents  \n",
       "count  1000.000000  1000.000000  \n",
       "mean     37.603141    37.465000  \n",
       "std      51.397598    51.584258  \n",
       "min       0.790769     0.000000  \n",
       "25%       9.330815     9.000000  \n",
       "50%      20.091650    19.000000  \n",
       "75%      44.608225    43.000000  \n",
       "max     416.137000   423.000000  "
      ]
     },
     "execution_count": 127,
     "metadata": {},
     "output_type": "execute_result"
    }
   ],
   "source": [
    "ppc_df = ppc_sim.draws_pd()\n",
    "ppc_df.describe()"
   ]
  },
  {
   "cell_type": "code",
   "execution_count": 128,
   "metadata": {},
   "outputs": [
    {
     "data": {
      "text/html": [
       "<div>\n",
       "<style scoped>\n",
       "    .dataframe tbody tr th:only-of-type {\n",
       "        vertical-align: middle;\n",
       "    }\n",
       "\n",
       "    .dataframe tbody tr th {\n",
       "        vertical-align: top;\n",
       "    }\n",
       "\n",
       "    .dataframe thead th {\n",
       "        text-align: right;\n",
       "    }\n",
       "</style>\n",
       "<table border=\"1\" class=\"dataframe\">\n",
       "  <thead>\n",
       "    <tr style=\"text-align: right;\">\n",
       "      <th></th>\n",
       "      <th>lp__</th>\n",
       "      <th>accept_stat__</th>\n",
       "      <th>alpha</th>\n",
       "      <th>theta</th>\n",
       "      <th>n</th>\n",
       "      <th>l</th>\n",
       "      <th>accidents</th>\n",
       "    </tr>\n",
       "  </thead>\n",
       "  <tbody>\n",
       "    <tr>\n",
       "      <th>0</th>\n",
       "      <td>0.0</td>\n",
       "      <td>0.0</td>\n",
       "      <td>1.11737</td>\n",
       "      <td>0.470196</td>\n",
       "      <td>-0.579286</td>\n",
       "      <td>2.32797</td>\n",
       "      <td>1.0</td>\n",
       "    </tr>\n",
       "    <tr>\n",
       "      <th>1</th>\n",
       "      <td>0.0</td>\n",
       "      <td>0.0</td>\n",
       "      <td>2.61965</td>\n",
       "      <td>0.448383</td>\n",
       "      <td>-1.735230</td>\n",
       "      <td>6.30662</td>\n",
       "      <td>4.0</td>\n",
       "    </tr>\n",
       "    <tr>\n",
       "      <th>2</th>\n",
       "      <td>0.0</td>\n",
       "      <td>0.0</td>\n",
       "      <td>3.45448</td>\n",
       "      <td>0.720615</td>\n",
       "      <td>-1.313300</td>\n",
       "      <td>12.28150</td>\n",
       "      <td>9.0</td>\n",
       "    </tr>\n",
       "    <tr>\n",
       "      <th>3</th>\n",
       "      <td>0.0</td>\n",
       "      <td>0.0</td>\n",
       "      <td>2.98894</td>\n",
       "      <td>0.134757</td>\n",
       "      <td>-0.196647</td>\n",
       "      <td>19.34520</td>\n",
       "      <td>29.0</td>\n",
       "    </tr>\n",
       "    <tr>\n",
       "      <th>4</th>\n",
       "      <td>0.0</td>\n",
       "      <td>0.0</td>\n",
       "      <td>3.15216</td>\n",
       "      <td>0.563000</td>\n",
       "      <td>1.433610</td>\n",
       "      <td>52.41990</td>\n",
       "      <td>65.0</td>\n",
       "    </tr>\n",
       "  </tbody>\n",
       "</table>\n",
       "</div>"
      ],
      "text/plain": [
       "   lp__  accept_stat__    alpha     theta         n         l  accidents\n",
       "0   0.0            0.0  1.11737  0.470196 -0.579286   2.32797        1.0\n",
       "1   0.0            0.0  2.61965  0.448383 -1.735230   6.30662        4.0\n",
       "2   0.0            0.0  3.45448  0.720615 -1.313300  12.28150        9.0\n",
       "3   0.0            0.0  2.98894  0.134757 -0.196647  19.34520       29.0\n",
       "4   0.0            0.0  3.15216  0.563000  1.433610  52.41990       65.0"
      ]
     },
     "execution_count": 128,
     "metadata": {},
     "output_type": "execute_result"
    }
   ],
   "source": [
    "ppc_df.head(5)"
   ]
  },
  {
   "cell_type": "code",
   "execution_count": 129,
   "metadata": {},
   "outputs": [
    {
     "data": {
      "image/png": "[encoded data removed]",
      "text/plain": [
       "<Figure size 432x432 with 3 Axes>"
      ]
     },
     "metadata": {
      "needs_background": "light"
     },
     "output_type": "display_data"
    }
   ],
   "source": [
    "sns.jointplot(data=ppc_df, x='alpha', y='theta', color='b')\n",
    "plt.show()"
   ]
  },
  {
   "cell_type": "code",
   "execution_count": 130,
   "metadata": {},
   "outputs": [
    {
     "data": {
      "image/png": "[encoded data removed]",
      "text/plain": [
       "<Figure size 720x360 with 2 Axes>"
      ]
     },
     "metadata": {
      "needs_background": "light"
     },
     "output_type": "display_data"
    }
   ],
   "source": [
    "ppc_lambdas = ppc_df[\"l\"].values\n",
    "ppc_accidents = ppc_df[\"accidents\"].values\n",
    "\n",
    "fig, ax = plt.subplots(1, 2, figsize=(10, 5), constrained_layout=True)\n",
    "\n",
    "fig.suptitle(\"Prior predictive check for airline accidents model\")\n",
    "\n",
    "ax[0].hist(ppc_lambdas, density=True, color='b', bins=100)\n",
    "ax[0].axvline(x=ppc_lambdas.mean(), color='r', label=f\"lambdas mean: {ppc_lambdas.mean()}\")\n",
    "ax[0].set_xlabel(\"lambda\")\n",
    "ax[0].set_ylabel(\"lambda distribution density\")\n",
    "ax[0].legend()\n",
    "\n",
    "ax[1].hist(ppc_accidents, density=True, color='b', bins=100)\n",
    "ax[1].axvline(x=ppc_accidents.mean(), color='r', label=f\"accidents mean: {ppc_accidents.mean()}\")\n",
    "ax[1].set_xlabel(\"accidents\")\n",
    "ax[1].set_ylabel(\"accidents distribution density\")\n",
    "ax[1].legend()\n",
    "\n",
    "plt.show()"
   ]
  },
  {
   "cell_type": "markdown",
   "metadata": {},
   "source": [
    "## Model definition"
   ]
  },
  {
   "cell_type": "code",
   "execution_count": 131,
   "metadata": {},
   "outputs": [
    {
     "name": "stdout",
     "output_type": "stream",
     "text": [
      "Overwriting model/airline_1_fit.stan\n"
     ]
    }
   ],
   "source": [
    "%%writefile model/airline_1_fit.stan\n",
    "\n",
    "data {\n",
    "    int<lower=0> N;\n",
    "    vector[N] miles;\n",
    "    int accidents[N]; // specify the vector is of int type\n",
    "}\n",
    "\n",
    "parameters {\n",
    "    real alpha;\n",
    "    real theta;\n",
    "}\n",
    "\n",
    "transformed parameters {\n",
    "    real lambdas[N];\n",
    "    for (i in 1:N) {\n",
    "        lambdas[i] = exp(alpha + theta * miles[i]);\n",
    "    }\n",
    "}\n",
    "\n",
    "model {\n",
    "    alpha ~ normal(3, 3.0 / 3.0);\n",
    "    theta ~ normal(0.4, 0.4 / 3.0);\n",
    "    for (i in 1:N) {\n",
    "        accidents[i] ~ poisson(lambdas[i]);\n",
    "    }\n",
    "}"
   ]
  },
  {
   "cell_type": "code",
   "execution_count": 132,
   "metadata": {},
   "outputs": [
    {
     "name": "stderr",
     "output_type": "stream",
     "text": [
      "INFO:cmdstanpy:compiling stan file /home/labs/DataAnalytics2023/Lab5/model/airline_1_fit.stan to exe file /home/labs/DataAnalytics2023/Lab5/model/airline_1_fit\n"
     ]
    },
    {
     "name": "stderr",
     "output_type": "stream",
     "text": [
      "INFO:cmdstanpy:compiled model executable: /home/labs/DataAnalytics2023/Lab5/model/airline_1_fit\n",
      "WARNING:cmdstanpy:Stan compiler has produced 2 warnings:\n",
      "WARNING:cmdstanpy:\n",
      "--- Translating Stan model to C++ code ---\n",
      "bin/stanc  --o=/home/labs/DataAnalytics2023/Lab5/model/airline_1_fit.hpp /home/labs/DataAnalytics2023/Lab5/model/airline_1_fit.stan\n",
      "Warning in '/home/labs/DataAnalytics2023/Lab5/model/airline_1_fit.stan', line 5, column 4: Declaration\n",
      "    of arrays by placing brackets after a variable name is deprecated and\n",
      "    will be removed in Stan 2.32.0. Instead use the array keyword before the\n",
      "    type. This can be changed automatically using the auto-format flag to\n",
      "    stanc\n",
      "Warning in '/home/labs/DataAnalytics2023/Lab5/model/airline_1_fit.stan', line 14, column 4: Declaration\n",
      "    of arrays by placing brackets after a variable name is deprecated and\n",
      "    will be removed in Stan 2.32.0. Instead use the array keyword before the\n",
      "    type. This can be changed automatically using the auto-format flag to\n",
      "    stanc\n",
      "\n",
      "--- Compiling, linking C++ code ---\n",
      "g++ -std=c++1y -pthread -D_REENTRANT -Wno-sign-compare -Wno-ignored-attributes      -I stan/lib/stan_math/lib/tbb_2020.3/include    -O3 -I src -I stan/src -I lib/rapidjson_1.1.0/ -I lib/CLI11-1.9.1/ -I stan/lib/stan_math/ -I stan/lib/stan_math/lib/eigen_3.3.9 -I stan/lib/stan_math/lib/boost_1.75.0 -I stan/lib/stan_math/lib/sundials_6.0.0/include -I stan/lib/stan_math/lib/sundials_6.0.0/src/sundials    -DBOOST_DISABLE_ASSERTS          -c -Wno-ignored-attributes   -x c++ -o /home/labs/DataAnalytics2023/Lab5/model/airline_1_fit.o /home/labs/DataAnalytics2023/Lab5/model/airline_1_fit.hpp\n",
      "g++ -std=c++1y -pthread -D_REENTRANT -Wno-sign-compare -Wno-ignored-attributes      -I stan/lib/stan_math/lib/tbb_2020.3/include    -O3 -I src -I stan/src -I lib/rapidjson_1.1.0/ -I lib/CLI11-1.9.1/ -I stan/lib/stan_math/ -I stan/lib/stan_math/lib/eigen_3.3.9 -I stan/lib/stan_math/lib/boost_1.75.0 -I stan/lib/stan_math/lib/sundials_6.0.0/include -I stan/lib/stan_math/lib/sundials_6.0.0/src/sundials    -DBOOST_DISABLE_ASSERTS                -Wl,-L,\"/opt/cmdstan-2.29.0/stan/lib/stan_math/lib/tbb\" -Wl,-rpath,\"/opt/cmdstan-2.29.0/stan/lib/stan_math/lib/tbb\"      /home/labs/DataAnalytics2023/Lab5/model/airline_1_fit.o src/cmdstan/main.o        -Wl,-L,\"/opt/cmdstan-2.29.0/stan/lib/stan_math/lib/tbb\" -Wl,-rpath,\"/opt/cmdstan-2.29.0/stan/lib/stan_math/lib/tbb\"   stan/lib/stan_math/lib/sundials_6.0.0/lib/libsundials_nvecserial.a stan/lib/stan_math/lib/sundials_6.0.0/lib/libsundials_cvodes.a stan/lib/stan_math/lib/sundials_6.0.0/lib/libsundials_idas.a stan/lib/stan_math/lib/sundials_6.0.0/lib/libsundials_kinsol.a  stan/lib/stan_math/lib/tbb/libtbb.so.2 -o /home/labs/DataAnalytics2023/Lab5/model/airline_1_fit\n",
      "rm -f /home/labs/DataAnalytics2023/Lab5/model/airline_1_fit.o\n",
      "\n"
     ]
    }
   ],
   "source": [
    "airline_1_fit_model = CmdStanModel(stan_file=\"model/airline_1_fit.stan\")"
   ]
  },
  {
   "cell_type": "code",
   "execution_count": 133,
   "metadata": {},
   "outputs": [],
   "source": [
    "fit_data = {'N': 10, 'miles': miles_flown_scaled_centered.values, 'accidents': accidents.values}"
   ]
  },
  {
   "cell_type": "code",
   "execution_count": 134,
   "metadata": {},
   "outputs": [
    {
     "name": "stderr",
     "output_type": "stream",
     "text": [
      "INFO:cmdstanpy:CmdStan start processing\n",
      "chain 1 |\u001b[33m          \u001b[0m| 00:00 Status\n",
      "\u001b[A\n",
      "\n",
      "chain 1 |\u001b[33m▍         \u001b[0m| 00:00 Status\n",
      "\u001b[A\n",
      "\n",
      "\u001b[A\u001b[A\n",
      "\u001b[A\n",
      "\n",
      "chain 1 |\u001b[34m██████████\u001b[0m| 00:00 Sampling completed\n",
      "chain 2 |\u001b[34m██████████\u001b[0m| 00:00 Sampling completed                       \n",
      "chain 3 |\u001b[34m██████████\u001b[0m| 00:00 Sampling completed                       \n",
      "chain 4 |\u001b[34m██████████\u001b[0m| 00:00 Sampling completed                       "
     ]
    },
    {
     "name": "stdout",
     "output_type": "stream",
     "text": [
      "                                                                                                                                                                "
     ]
    },
    {
     "name": "stderr",
     "output_type": "stream",
     "text": [
      "\n"
     ]
    },
    {
     "name": "stdout",
     "output_type": "stream",
     "text": [
      "                                                                                                                                                                "
     ]
    },
    {
     "name": "stderr",
     "output_type": "stream",
     "text": [
      "INFO:cmdstanpy:CmdStan done processing.\n"
     ]
    },
    {
     "name": "stdout",
     "output_type": "stream",
     "text": [
      "\n"
     ]
    }
   ],
   "source": [
    "airline_fit = airline_1_fit_model.sample(data=fit_data,\n",
    "                                         seed=12072023)"
   ]
  },
  {
   "cell_type": "code",
   "execution_count": 135,
   "metadata": {},
   "outputs": [
    {
     "data": {
      "text/html": [
       "<div>\n",
       "<style scoped>\n",
       "    .dataframe tbody tr th:only-of-type {\n",
       "        vertical-align: middle;\n",
       "    }\n",
       "\n",
       "    .dataframe tbody tr th {\n",
       "        vertical-align: top;\n",
       "    }\n",
       "\n",
       "    .dataframe thead th {\n",
       "        text-align: right;\n",
       "    }\n",
       "</style>\n",
       "<table border=\"1\" class=\"dataframe\">\n",
       "  <thead>\n",
       "    <tr style=\"text-align: right;\">\n",
       "      <th></th>\n",
       "      <th>lp__</th>\n",
       "      <th>accept_stat__</th>\n",
       "      <th>stepsize__</th>\n",
       "      <th>treedepth__</th>\n",
       "      <th>n_leapfrog__</th>\n",
       "      <th>divergent__</th>\n",
       "      <th>energy__</th>\n",
       "      <th>alpha</th>\n",
       "      <th>theta</th>\n",
       "      <th>lambdas[1]</th>\n",
       "      <th>lambdas[2]</th>\n",
       "      <th>lambdas[3]</th>\n",
       "      <th>lambdas[4]</th>\n",
       "      <th>lambdas[5]</th>\n",
       "      <th>lambdas[6]</th>\n",
       "      <th>lambdas[7]</th>\n",
       "      <th>lambdas[8]</th>\n",
       "      <th>lambdas[9]</th>\n",
       "      <th>lambdas[10]</th>\n",
       "    </tr>\n",
       "  </thead>\n",
       "  <tbody>\n",
       "    <tr>\n",
       "      <th>count</th>\n",
       "      <td>4000.000000</td>\n",
       "      <td>4000.000000</td>\n",
       "      <td>4000.000000</td>\n",
       "      <td>4000.000000</td>\n",
       "      <td>4000.000000</td>\n",
       "      <td>4000.0</td>\n",
       "      <td>4000.000000</td>\n",
       "      <td>4000.000000</td>\n",
       "      <td>4000.000000</td>\n",
       "      <td>4000.000000</td>\n",
       "      <td>4000.000000</td>\n",
       "      <td>4000.000000</td>\n",
       "      <td>4000.000000</td>\n",
       "      <td>4000.000000</td>\n",
       "      <td>4000.000000</td>\n",
       "      <td>4000.000000</td>\n",
       "      <td>4000.000000</td>\n",
       "      <td>4000.000000</td>\n",
       "      <td>4000.000000</td>\n",
       "    </tr>\n",
       "    <tr>\n",
       "      <th>mean</th>\n",
       "      <td>510.900892</td>\n",
       "      <td>0.920259</td>\n",
       "      <td>0.856433</td>\n",
       "      <td>1.963250</td>\n",
       "      <td>3.788500</td>\n",
       "      <td>0.0</td>\n",
       "      <td>-509.909410</td>\n",
       "      <td>3.165823</td>\n",
       "      <td>-0.014639</td>\n",
       "      <td>24.534818</td>\n",
       "      <td>24.326922</td>\n",
       "      <td>24.015653</td>\n",
       "      <td>23.842600</td>\n",
       "      <td>23.725852</td>\n",
       "      <td>23.653699</td>\n",
       "      <td>23.704722</td>\n",
       "      <td>23.594047</td>\n",
       "      <td>23.277074</td>\n",
       "      <td>23.351903</td>\n",
       "    </tr>\n",
       "    <tr>\n",
       "      <th>std</th>\n",
       "      <td>1.006686</td>\n",
       "      <td>0.101704</td>\n",
       "      <td>0.071776</td>\n",
       "      <td>0.604145</td>\n",
       "      <td>1.906352</td>\n",
       "      <td>0.0</td>\n",
       "      <td>1.414975</td>\n",
       "      <td>0.065719</td>\n",
       "      <td>0.055097</td>\n",
       "      <td>2.934487</td>\n",
       "      <td>2.440315</td>\n",
       "      <td>1.795957</td>\n",
       "      <td>1.585714</td>\n",
       "      <td>1.565556</td>\n",
       "      <td>1.616715</td>\n",
       "      <td>1.575231</td>\n",
       "      <td>1.698209</td>\n",
       "      <td>2.707687</td>\n",
       "      <td>2.382377</td>\n",
       "    </tr>\n",
       "    <tr>\n",
       "      <th>min</th>\n",
       "      <td>503.161000</td>\n",
       "      <td>0.227185</td>\n",
       "      <td>0.757413</td>\n",
       "      <td>1.000000</td>\n",
       "      <td>1.000000</td>\n",
       "      <td>0.0</td>\n",
       "      <td>-511.888000</td>\n",
       "      <td>2.887830</td>\n",
       "      <td>-0.203939</td>\n",
       "      <td>16.306300</td>\n",
       "      <td>17.188500</td>\n",
       "      <td>18.382400</td>\n",
       "      <td>18.170400</td>\n",
       "      <td>17.864700</td>\n",
       "      <td>17.666500</td>\n",
       "      <td>17.807500</td>\n",
       "      <td>17.496300</td>\n",
       "      <td>15.234100</td>\n",
       "      <td>16.246600</td>\n",
       "    </tr>\n",
       "    <tr>\n",
       "      <th>25%</th>\n",
       "      <td>510.512500</td>\n",
       "      <td>0.880892</td>\n",
       "      <td>0.803318</td>\n",
       "      <td>2.000000</td>\n",
       "      <td>3.000000</td>\n",
       "      <td>0.0</td>\n",
       "      <td>-510.959250</td>\n",
       "      <td>3.122860</td>\n",
       "      <td>-0.051313</td>\n",
       "      <td>22.539225</td>\n",
       "      <td>22.658550</td>\n",
       "      <td>22.840225</td>\n",
       "      <td>22.797400</td>\n",
       "      <td>22.661175</td>\n",
       "      <td>22.541725</td>\n",
       "      <td>22.626675</td>\n",
       "      <td>22.435775</td>\n",
       "      <td>21.411575</td>\n",
       "      <td>21.709050</td>\n",
       "    </tr>\n",
       "    <tr>\n",
       "      <th>50%</th>\n",
       "      <td>511.221500</td>\n",
       "      <td>0.960025</td>\n",
       "      <td>0.870918</td>\n",
       "      <td>2.000000</td>\n",
       "      <td>3.000000</td>\n",
       "      <td>0.0</td>\n",
       "      <td>-510.244000</td>\n",
       "      <td>3.166205</td>\n",
       "      <td>-0.015380</td>\n",
       "      <td>24.448750</td>\n",
       "      <td>24.240150</td>\n",
       "      <td>23.925850</td>\n",
       "      <td>23.778800</td>\n",
       "      <td>23.693700</td>\n",
       "      <td>23.634600</td>\n",
       "      <td>23.677150</td>\n",
       "      <td>23.575650</td>\n",
       "      <td>23.174600</td>\n",
       "      <td>23.284300</td>\n",
       "    </tr>\n",
       "    <tr>\n",
       "      <th>75%</th>\n",
       "      <td>511.624250</td>\n",
       "      <td>0.996128</td>\n",
       "      <td>0.924034</td>\n",
       "      <td>2.000000</td>\n",
       "      <td>3.000000</td>\n",
       "      <td>0.0</td>\n",
       "      <td>-509.221750</td>\n",
       "      <td>3.209950</td>\n",
       "      <td>0.022675</td>\n",
       "      <td>26.433800</td>\n",
       "      <td>25.898050</td>\n",
       "      <td>25.230000</td>\n",
       "      <td>24.902175</td>\n",
       "      <td>24.746250</td>\n",
       "      <td>24.701400</td>\n",
       "      <td>24.728875</td>\n",
       "      <td>24.709250</td>\n",
       "      <td>25.024925</td>\n",
       "      <td>24.892100</td>\n",
       "    </tr>\n",
       "    <tr>\n",
       "      <th>max</th>\n",
       "      <td>511.905000</td>\n",
       "      <td>1.000000</td>\n",
       "      <td>0.926482</td>\n",
       "      <td>3.000000</td>\n",
       "      <td>7.000000</td>\n",
       "      <td>0.0</td>\n",
       "      <td>-500.278000</td>\n",
       "      <td>3.417700</td>\n",
       "      <td>0.164376</td>\n",
       "      <td>37.837000</td>\n",
       "      <td>34.610800</td>\n",
       "      <td>31.176200</td>\n",
       "      <td>30.205000</td>\n",
       "      <td>30.623200</td>\n",
       "      <td>30.901400</td>\n",
       "      <td>30.703000</td>\n",
       "      <td>31.144700</td>\n",
       "      <td>33.089800</td>\n",
       "      <td>32.302500</td>\n",
       "    </tr>\n",
       "  </tbody>\n",
       "</table>\n",
       "</div>"
      ],
      "text/plain": [
       "              lp__  accept_stat__   stepsize__  treedepth__  n_leapfrog__  \\\n",
       "count  4000.000000    4000.000000  4000.000000  4000.000000   4000.000000   \n",
       "mean    510.900892       0.920259     0.856433     1.963250      3.788500   \n",
       "std       1.006686       0.101704     0.071776     0.604145      1.906352   \n",
       "min     503.161000       0.227185     0.757413     1.000000      1.000000   \n",
       "25%     510.512500       0.880892     0.803318     2.000000      3.000000   \n",
       "50%     511.221500       0.960025     0.870918     2.000000      3.000000   \n",
       "75%     511.624250       0.996128     0.924034     2.000000      3.000000   \n",
       "max     511.905000       1.000000     0.926482     3.000000      7.000000   \n",
       "\n",
       "       divergent__     energy__        alpha        theta   lambdas[1]  \\\n",
       "count       4000.0  4000.000000  4000.000000  4000.000000  4000.000000   \n",
       "mean           0.0  -509.909410     3.165823    -0.014639    24.534818   \n",
       "std            0.0     1.414975     0.065719     0.055097     2.934487   \n",
       "min            0.0  -511.888000     2.887830    -0.203939    16.306300   \n",
       "25%            0.0  -510.959250     3.122860    -0.051313    22.539225   \n",
       "50%            0.0  -510.244000     3.166205    -0.015380    24.448750   \n",
       "75%            0.0  -509.221750     3.209950     0.022675    26.433800   \n",
       "max            0.0  -500.278000     3.417700     0.164376    37.837000   \n",
       "\n",
       "        lambdas[2]   lambdas[3]   lambdas[4]   lambdas[5]   lambdas[6]  \\\n",
       "count  4000.000000  4000.000000  4000.000000  4000.000000  4000.000000   \n",
       "mean     24.326922    24.015653    23.842600    23.725852    23.653699   \n",
       "std       2.440315     1.795957     1.585714     1.565556     1.616715   \n",
       "min      17.188500    18.382400    18.170400    17.864700    17.666500   \n",
       "25%      22.658550    22.840225    22.797400    22.661175    22.541725   \n",
       "50%      24.240150    23.925850    23.778800    23.693700    23.634600   \n",
       "75%      25.898050    25.230000    24.902175    24.746250    24.701400   \n",
       "max      34.610800    31.176200    30.205000    30.623200    30.901400   \n",
       "\n",
       "        lambdas[7]   lambdas[8]   lambdas[9]  lambdas[10]  \n",
       "count  4000.000000  4000.000000  4000.000000  4000.000000  \n",
       "mean     23.704722    23.594047    23.277074    23.351903  \n",
       "std       1.575231     1.698209     2.707687     2.382377  \n",
       "min      17.807500    17.496300    15.234100    16.246600  \n",
       "25%      22.626675    22.435775    21.411575    21.709050  \n",
       "50%      23.677150    23.575650    23.174600    23.284300  \n",
       "75%      24.728875    24.709250    25.024925    24.892100  \n",
       "max      30.703000    31.144700    33.089800    32.302500  "
      ]
     },
     "execution_count": 135,
     "metadata": {},
     "output_type": "execute_result"
    }
   ],
   "source": [
    "fit_df = airline_fit.draws_pd()\n",
    "fit_df.describe()"
   ]
  },
  {
   "cell_type": "code",
   "execution_count": 136,
   "metadata": {},
   "outputs": [
    {
     "data": {
      "text/html": [
       "<div>\n",
       "<style scoped>\n",
       "    .dataframe tbody tr th:only-of-type {\n",
       "        vertical-align: middle;\n",
       "    }\n",
       "\n",
       "    .dataframe tbody tr th {\n",
       "        vertical-align: top;\n",
       "    }\n",
       "\n",
       "    .dataframe thead th {\n",
       "        text-align: right;\n",
       "    }\n",
       "</style>\n",
       "<table border=\"1\" class=\"dataframe\">\n",
       "  <thead>\n",
       "    <tr style=\"text-align: right;\">\n",
       "      <th></th>\n",
       "      <th>lp__</th>\n",
       "      <th>accept_stat__</th>\n",
       "      <th>stepsize__</th>\n",
       "      <th>treedepth__</th>\n",
       "      <th>n_leapfrog__</th>\n",
       "      <th>divergent__</th>\n",
       "      <th>energy__</th>\n",
       "      <th>alpha</th>\n",
       "      <th>theta</th>\n",
       "      <th>lambdas[1]</th>\n",
       "      <th>lambdas[2]</th>\n",
       "      <th>lambdas[3]</th>\n",
       "      <th>lambdas[4]</th>\n",
       "      <th>lambdas[5]</th>\n",
       "      <th>lambdas[6]</th>\n",
       "      <th>lambdas[7]</th>\n",
       "      <th>lambdas[8]</th>\n",
       "      <th>lambdas[9]</th>\n",
       "      <th>lambdas[10]</th>\n",
       "    </tr>\n",
       "  </thead>\n",
       "  <tbody>\n",
       "    <tr>\n",
       "      <th>0</th>\n",
       "      <td>511.590</td>\n",
       "      <td>0.983340</td>\n",
       "      <td>0.818619</td>\n",
       "      <td>2.0</td>\n",
       "      <td>3.0</td>\n",
       "      <td>0.0</td>\n",
       "      <td>-511.402</td>\n",
       "      <td>3.12465</td>\n",
       "      <td>-0.038645</td>\n",
       "      <td>24.4407</td>\n",
       "      <td>24.0314</td>\n",
       "      <td>23.3657</td>\n",
       "      <td>22.9593</td>\n",
       "      <td>22.6657</td>\n",
       "      <td>22.4747</td>\n",
       "      <td>22.6106</td>\n",
       "      <td>22.3103</td>\n",
       "      <td>21.2910</td>\n",
       "      <td>21.5610</td>\n",
       "    </tr>\n",
       "    <tr>\n",
       "      <th>1</th>\n",
       "      <td>511.060</td>\n",
       "      <td>0.948303</td>\n",
       "      <td>0.818619</td>\n",
       "      <td>2.0</td>\n",
       "      <td>3.0</td>\n",
       "      <td>0.0</td>\n",
       "      <td>-510.799</td>\n",
       "      <td>3.16981</td>\n",
       "      <td>-0.086687</td>\n",
       "      <td>27.9502</td>\n",
       "      <td>26.9112</td>\n",
       "      <td>25.2675</td>\n",
       "      <td>24.2924</td>\n",
       "      <td>23.6012</td>\n",
       "      <td>23.1574</td>\n",
       "      <td>23.4727</td>\n",
       "      <td>22.7791</td>\n",
       "      <td>20.5108</td>\n",
       "      <td>21.0987</td>\n",
       "    </tr>\n",
       "    <tr>\n",
       "      <th>2</th>\n",
       "      <td>511.543</td>\n",
       "      <td>0.749376</td>\n",
       "      <td>0.818619</td>\n",
       "      <td>2.0</td>\n",
       "      <td>3.0</td>\n",
       "      <td>0.0</td>\n",
       "      <td>-507.932</td>\n",
       "      <td>3.13914</td>\n",
       "      <td>-0.055393</td>\n",
       "      <td>25.5789</td>\n",
       "      <td>24.9672</td>\n",
       "      <td>23.9817</td>\n",
       "      <td>23.3861</td>\n",
       "      <td>22.9587</td>\n",
       "      <td>22.6819</td>\n",
       "      <td>22.8787</td>\n",
       "      <td>22.4444</td>\n",
       "      <td>20.9893</td>\n",
       "      <td>21.3718</td>\n",
       "    </tr>\n",
       "    <tr>\n",
       "      <th>3</th>\n",
       "      <td>511.272</td>\n",
       "      <td>0.962969</td>\n",
       "      <td>0.818619</td>\n",
       "      <td>2.0</td>\n",
       "      <td>3.0</td>\n",
       "      <td>0.0</td>\n",
       "      <td>-510.940</td>\n",
       "      <td>3.21507</td>\n",
       "      <td>-0.061254</td>\n",
       "      <td>27.8981</td>\n",
       "      <td>27.1612</td>\n",
       "      <td>25.9782</td>\n",
       "      <td>25.2657</td>\n",
       "      <td>24.7556</td>\n",
       "      <td>24.4257</td>\n",
       "      <td>24.6603</td>\n",
       "      <td>24.1431</td>\n",
       "      <td>22.4184</td>\n",
       "      <td>22.8705</td>\n",
       "    </tr>\n",
       "    <tr>\n",
       "      <th>4</th>\n",
       "      <td>511.314</td>\n",
       "      <td>0.981254</td>\n",
       "      <td>0.818619</td>\n",
       "      <td>3.0</td>\n",
       "      <td>7.0</td>\n",
       "      <td>0.0</td>\n",
       "      <td>-510.560</td>\n",
       "      <td>3.09776</td>\n",
       "      <td>-0.019385</td>\n",
       "      <td>22.9582</td>\n",
       "      <td>22.7645</td>\n",
       "      <td>22.4460</td>\n",
       "      <td>22.2493</td>\n",
       "      <td>22.1061</td>\n",
       "      <td>22.0125</td>\n",
       "      <td>22.0791</td>\n",
       "      <td>21.9315</td>\n",
       "      <td>21.4231</td>\n",
       "      <td>21.5589</td>\n",
       "    </tr>\n",
       "  </tbody>\n",
       "</table>\n",
       "</div>"
      ],
      "text/plain": [
       "      lp__  accept_stat__  stepsize__  treedepth__  n_leapfrog__  divergent__  \\\n",
       "0  511.590       0.983340    0.818619          2.0           3.0          0.0   \n",
       "1  511.060       0.948303    0.818619          2.0           3.0          0.0   \n",
       "2  511.543       0.749376    0.818619          2.0           3.0          0.0   \n",
       "3  511.272       0.962969    0.818619          2.0           3.0          0.0   \n",
       "4  511.314       0.981254    0.818619          3.0           7.0          0.0   \n",
       "\n",
       "   energy__    alpha     theta  lambdas[1]  lambdas[2]  lambdas[3]  \\\n",
       "0  -511.402  3.12465 -0.038645     24.4407     24.0314     23.3657   \n",
       "1  -510.799  3.16981 -0.086687     27.9502     26.9112     25.2675   \n",
       "2  -507.932  3.13914 -0.055393     25.5789     24.9672     23.9817   \n",
       "3  -510.940  3.21507 -0.061254     27.8981     27.1612     25.9782   \n",
       "4  -510.560  3.09776 -0.019385     22.9582     22.7645     22.4460   \n",
       "\n",
       "   lambdas[4]  lambdas[5]  lambdas[6]  lambdas[7]  lambdas[8]  lambdas[9]  \\\n",
       "0     22.9593     22.6657     22.4747     22.6106     22.3103     21.2910   \n",
       "1     24.2924     23.6012     23.1574     23.4727     22.7791     20.5108   \n",
       "2     23.3861     22.9587     22.6819     22.8787     22.4444     20.9893   \n",
       "3     25.2657     24.7556     24.4257     24.6603     24.1431     22.4184   \n",
       "4     22.2493     22.1061     22.0125     22.0791     21.9315     21.4231   \n",
       "\n",
       "   lambdas[10]  \n",
       "0      21.5610  \n",
       "1      21.0987  \n",
       "2      21.3718  \n",
       "3      22.8705  \n",
       "4      21.5589  "
      ]
     },
     "execution_count": 136,
     "metadata": {},
     "output_type": "execute_result"
    }
   ],
   "source": [
    "fit_df.head(5)"
   ]
  },
  {
   "cell_type": "code",
   "execution_count": 137,
   "metadata": {},
   "outputs": [],
   "source": [
    "fit_lambdas = fit_df.loc[:, \"lambdas[1]\":\"lambdas[10]\"]"
   ]
  },
  {
   "cell_type": "code",
   "execution_count": 138,
   "metadata": {},
   "outputs": [
    {
     "data": {
      "image/png": "[encoded data removed]",
      "text/plain": [
       "<Figure size 1080x2160 with 10 Axes>"
      ]
     },
     "metadata": {
      "needs_background": "light"
     },
     "output_type": "display_data"
    }
   ],
   "source": [
    "fig, ax = plt.subplots(int(len(years)/2), 2, figsize=(15, 30), constrained_layout=True)\n",
    "ax = ax.flatten()\n",
    "\n",
    "for i, axis in enumerate(ax):\n",
    "    axis.hist(fit_lambdas[f\"lambdas[{i+1}]\"].values, density=True, color='b', label='sampled accident number')\n",
    "    axis.axvline(x=accidents[i], color='r', label='real accident number')\n",
    "    axis.set_xlabel('accidents')\n",
    "    axis.set_ylabel('accident sample distribution')\n",
    "    axis.set_title(f'year: {years[i]}')\n",
    "    axis.legend()\n",
    "fig.suptitle(\"Airline accidents model 1\")\n",
    "plt.show()"
   ]
  },
  {
   "cell_type": "markdown",
   "metadata": {},
   "source": [
    "Fair to say those results are not very impressive. They do indicate however, that the model was fitted successfully, as the real values are in the realm of predictions. The distribution of the predictions leaves a lot to wish though."
   ]
  },
  {
   "cell_type": "markdown",
   "metadata": {},
   "source": [
    "## Model with separate $\\alpha_i$ for each year"
   ]
  },
  {
   "cell_type": "markdown",
   "metadata": {},
   "source": [
    "We'll use the same priors that we've used in the model with single alpha for all years."
   ]
  },
  {
   "cell_type": "markdown",
   "metadata": {},
   "source": [
    "### Posterior predictive checks"
   ]
  },
  {
   "cell_type": "code",
   "execution_count": 139,
   "metadata": {},
   "outputs": [
    {
     "name": "stdout",
     "output_type": "stream",
     "text": [
      "Overwriting model/airline_2_fit.stan\n"
     ]
    }
   ],
   "source": [
    "%%writefile model/airline_2_fit.stan\n",
    "\n",
    "data {\n",
    "    int<lower=0> N;\n",
    "    vector[N] miles;\n",
    "    int accidents[N]; // specify the vector is of int type\n",
    "}\n",
    "\n",
    "parameters {\n",
    "    real alpha[N];\n",
    "    real theta;\n",
    "}\n",
    "\n",
    "transformed parameters {\n",
    "    real lambdas[N];\n",
    "    for (i in 1:N) {\n",
    "        lambdas[i] = exp(alpha[i] + theta * miles[i]);\n",
    "    }\n",
    "}\n",
    "\n",
    "model {\n",
    "    alpha ~ normal(3, 3.0 / 3.0);\n",
    "    theta ~ normal(0.4, 0.4 / 3.0);\n",
    "    for (i in 1:N) {\n",
    "        accidents[i] ~ poisson(lambdas[i]);\n",
    "    }\n",
    "}"
   ]
  },
  {
   "cell_type": "code",
   "execution_count": 140,
   "metadata": {},
   "outputs": [
    {
     "name": "stderr",
     "output_type": "stream",
     "text": [
      "INFO:cmdstanpy:compiling stan file /home/labs/DataAnalytics2023/Lab5/model/airline_2_fit.stan to exe file /home/labs/DataAnalytics2023/Lab5/model/airline_2_fit\n"
     ]
    },
    {
     "name": "stderr",
     "output_type": "stream",
     "text": [
      "INFO:cmdstanpy:compiled model executable: /home/labs/DataAnalytics2023/Lab5/model/airline_2_fit\n",
      "WARNING:cmdstanpy:Stan compiler has produced 3 warnings:\n",
      "WARNING:cmdstanpy:\n",
      "--- Translating Stan model to C++ code ---\n",
      "bin/stanc  --o=/home/labs/DataAnalytics2023/Lab5/model/airline_2_fit.hpp /home/labs/DataAnalytics2023/Lab5/model/airline_2_fit.stan\n",
      "Warning in '/home/labs/DataAnalytics2023/Lab5/model/airline_2_fit.stan', line 5, column 4: Declaration\n",
      "    of arrays by placing brackets after a variable name is deprecated and\n",
      "    will be removed in Stan 2.32.0. Instead use the array keyword before the\n",
      "    type. This can be changed automatically using the auto-format flag to\n",
      "    stanc\n",
      "Warning in '/home/labs/DataAnalytics2023/Lab5/model/airline_2_fit.stan', line 9, column 4: Declaration\n",
      "    of arrays by placing brackets after a variable name is deprecated and\n",
      "    will be removed in Stan 2.32.0. Instead use the array keyword before the\n",
      "    type. This can be changed automatically using the auto-format flag to\n",
      "    stanc\n",
      "Warning in '/home/labs/DataAnalytics2023/Lab5/model/airline_2_fit.stan', line 14, column 4: Declaration\n",
      "    of arrays by placing brackets after a variable name is deprecated and\n",
      "    will be removed in Stan 2.32.0. Instead use the array keyword before the\n",
      "    type. This can be changed automatically using the auto-format flag to\n",
      "    stanc\n",
      "\n",
      "--- Compiling, linking C++ code ---\n",
      "g++ -std=c++1y -pthread -D_REENTRANT -Wno-sign-compare -Wno-ignored-attributes      -I stan/lib/stan_math/lib/tbb_2020.3/include    -O3 -I src -I stan/src -I lib/rapidjson_1.1.0/ -I lib/CLI11-1.9.1/ -I stan/lib/stan_math/ -I stan/lib/stan_math/lib/eigen_3.3.9 -I stan/lib/stan_math/lib/boost_1.75.0 -I stan/lib/stan_math/lib/sundials_6.0.0/include -I stan/lib/stan_math/lib/sundials_6.0.0/src/sundials    -DBOOST_DISABLE_ASSERTS          -c -Wno-ignored-attributes   -x c++ -o /home/labs/DataAnalytics2023/Lab5/model/airline_2_fit.o /home/labs/DataAnalytics2023/Lab5/model/airline_2_fit.hpp\n",
      "g++ -std=c++1y -pthread -D_REENTRANT -Wno-sign-compare -Wno-ignored-attributes      -I stan/lib/stan_math/lib/tbb_2020.3/include    -O3 -I src -I stan/src -I lib/rapidjson_1.1.0/ -I lib/CLI11-1.9.1/ -I stan/lib/stan_math/ -I stan/lib/stan_math/lib/eigen_3.3.9 -I stan/lib/stan_math/lib/boost_1.75.0 -I stan/lib/stan_math/lib/sundials_6.0.0/include -I stan/lib/stan_math/lib/sundials_6.0.0/src/sundials    -DBOOST_DISABLE_ASSERTS                -Wl,-L,\"/opt/cmdstan-2.29.0/stan/lib/stan_math/lib/tbb\" -Wl,-rpath,\"/opt/cmdstan-2.29.0/stan/lib/stan_math/lib/tbb\"      /home/labs/DataAnalytics2023/Lab5/model/airline_2_fit.o src/cmdstan/main.o        -Wl,-L,\"/opt/cmdstan-2.29.0/stan/lib/stan_math/lib/tbb\" -Wl,-rpath,\"/opt/cmdstan-2.29.0/stan/lib/stan_math/lib/tbb\"   stan/lib/stan_math/lib/sundials_6.0.0/lib/libsundials_nvecserial.a stan/lib/stan_math/lib/sundials_6.0.0/lib/libsundials_cvodes.a stan/lib/stan_math/lib/sundials_6.0.0/lib/libsundials_idas.a stan/lib/stan_math/lib/sundials_6.0.0/lib/libsundials_kinsol.a  stan/lib/stan_math/lib/tbb/libtbb.so.2 -o /home/labs/DataAnalytics2023/Lab5/model/airline_2_fit\n",
      "rm -f /home/labs/DataAnalytics2023/Lab5/model/airline_2_fit.o\n",
      "\n"
     ]
    }
   ],
   "source": [
    "airline_2_fit_model = CmdStanModel(stan_file=\"model/airline_2_fit.stan\")"
   ]
  },
  {
   "cell_type": "code",
   "execution_count": 141,
   "metadata": {},
   "outputs": [
    {
     "name": "stderr",
     "output_type": "stream",
     "text": [
      "INFO:cmdstanpy:CmdStan start processing\n",
      "chain 1 |\u001b[33m          \u001b[0m| 00:00 Status\n",
      "\u001b[A\n",
      "\n",
      "\u001b[A\u001b[A"
     ]
    },
    {
     "name": "stderr",
     "output_type": "stream",
     "text": [
      "chain 1 |\u001b[33m▉         \u001b[0m| 00:00 Iteration:    1 / 2000 [  0%]  (Warmup)\n",
      "\u001b[A\n",
      "\n",
      "chain 1 |\u001b[34m███████▎  \u001b[0m| 00:00 Iteration: 1300 / 2000 [ 65%]  (Sampling)\n",
      "\u001b[A\n",
      "\n",
      "\u001b[A\u001b[A\n",
      "\u001b[A\n",
      "\n",
      "chain 1 |\u001b[34m██████████\u001b[0m| 00:00 Sampling completed                       \n",
      "chain 2 |\u001b[34m██████████\u001b[0m| 00:00 Sampling completed                       \n",
      "chain 3 |\u001b[34m██████████\u001b[0m| 00:00 Sampling completed                       \n",
      "chain 4 |\u001b[34m██████████\u001b[0m| 00:00 Sampling completed                       "
     ]
    },
    {
     "name": "stdout",
     "output_type": "stream",
     "text": [
      "                                                                                "
     ]
    },
    {
     "name": "stderr",
     "output_type": "stream",
     "text": [
      "\n"
     ]
    },
    {
     "name": "stdout",
     "output_type": "stream",
     "text": [
      "                                                                                                                                                                                                                                                "
     ]
    },
    {
     "name": "stderr",
     "output_type": "stream",
     "text": [
      "INFO:cmdstanpy:CmdStan done processing.\n"
     ]
    },
    {
     "name": "stdout",
     "output_type": "stream",
     "text": [
      "\n"
     ]
    }
   ],
   "source": [
    "airline_fit = airline_2_fit_model.sample(data=fit_data,\n",
    "                                         seed=12072023)"
   ]
  },
  {
   "cell_type": "code",
   "execution_count": 142,
   "metadata": {},
   "outputs": [
    {
     "data": {
      "text/html": [
       "<div>\n",
       "<style scoped>\n",
       "    .dataframe tbody tr th:only-of-type {\n",
       "        vertical-align: middle;\n",
       "    }\n",
       "\n",
       "    .dataframe tbody tr th {\n",
       "        vertical-align: top;\n",
       "    }\n",
       "\n",
       "    .dataframe thead th {\n",
       "        text-align: right;\n",
       "    }\n",
       "</style>\n",
       "<table border=\"1\" class=\"dataframe\">\n",
       "  <thead>\n",
       "    <tr style=\"text-align: right;\">\n",
       "      <th></th>\n",
       "      <th>lp__</th>\n",
       "      <th>accept_stat__</th>\n",
       "      <th>stepsize__</th>\n",
       "      <th>treedepth__</th>\n",
       "      <th>n_leapfrog__</th>\n",
       "      <th>divergent__</th>\n",
       "      <th>energy__</th>\n",
       "      <th>alpha[1]</th>\n",
       "      <th>alpha[2]</th>\n",
       "      <th>alpha[3]</th>\n",
       "      <th>...</th>\n",
       "      <th>lambdas[1]</th>\n",
       "      <th>lambdas[2]</th>\n",
       "      <th>lambdas[3]</th>\n",
       "      <th>lambdas[4]</th>\n",
       "      <th>lambdas[5]</th>\n",
       "      <th>lambdas[6]</th>\n",
       "      <th>lambdas[7]</th>\n",
       "      <th>lambdas[8]</th>\n",
       "      <th>lambdas[9]</th>\n",
       "      <th>lambdas[10]</th>\n",
       "    </tr>\n",
       "  </thead>\n",
       "  <tbody>\n",
       "    <tr>\n",
       "      <th>count</th>\n",
       "      <td>4000.000000</td>\n",
       "      <td>4000.000000</td>\n",
       "      <td>4000.000000</td>\n",
       "      <td>4000.000000</td>\n",
       "      <td>4000.000000</td>\n",
       "      <td>4000.0</td>\n",
       "      <td>4000.000000</td>\n",
       "      <td>4000.000000</td>\n",
       "      <td>4000.000000</td>\n",
       "      <td>4000.000000</td>\n",
       "      <td>...</td>\n",
       "      <td>4000.000000</td>\n",
       "      <td>4000.000000</td>\n",
       "      <td>4000.000000</td>\n",
       "      <td>4000.000000</td>\n",
       "      <td>4000.000000</td>\n",
       "      <td>4000.000000</td>\n",
       "      <td>4000.000000</td>\n",
       "      <td>4000.000000</td>\n",
       "      <td>4000.000000</td>\n",
       "      <td>4000.000000</td>\n",
       "    </tr>\n",
       "    <tr>\n",
       "      <th>mean</th>\n",
       "      <td>513.568088</td>\n",
       "      <td>0.909515</td>\n",
       "      <td>0.412596</td>\n",
       "      <td>3.119250</td>\n",
       "      <td>9.678000</td>\n",
       "      <td>0.0</td>\n",
       "      <td>-508.003823</td>\n",
       "      <td>3.730020</td>\n",
       "      <td>3.633467</td>\n",
       "      <td>3.623425</td>\n",
       "      <td>...</td>\n",
       "      <td>23.339240</td>\n",
       "      <td>24.403051</td>\n",
       "      <td>30.472294</td>\n",
       "      <td>30.472241</td>\n",
       "      <td>22.000416</td>\n",
       "      <td>21.150155</td>\n",
       "      <td>25.694079</td>\n",
       "      <td>20.134864</td>\n",
       "      <td>16.701810</td>\n",
       "      <td>22.398381</td>\n",
       "    </tr>\n",
       "    <tr>\n",
       "      <th>std</th>\n",
       "      <td>2.349708</td>\n",
       "      <td>0.098054</td>\n",
       "      <td>0.020356</td>\n",
       "      <td>0.354346</td>\n",
       "      <td>4.098843</td>\n",
       "      <td>0.0</td>\n",
       "      <td>3.305586</td>\n",
       "      <td>0.302997</td>\n",
       "      <td>0.263413</td>\n",
       "      <td>0.199479</td>\n",
       "      <td>...</td>\n",
       "      <td>4.710593</td>\n",
       "      <td>4.875814</td>\n",
       "      <td>5.562338</td>\n",
       "      <td>5.454795</td>\n",
       "      <td>4.571716</td>\n",
       "      <td>4.513736</td>\n",
       "      <td>5.062428</td>\n",
       "      <td>4.356778</td>\n",
       "      <td>4.005664</td>\n",
       "      <td>4.649686</td>\n",
       "    </tr>\n",
       "    <tr>\n",
       "      <th>min</th>\n",
       "      <td>502.124000</td>\n",
       "      <td>0.302458</td>\n",
       "      <td>0.380937</td>\n",
       "      <td>2.000000</td>\n",
       "      <td>3.000000</td>\n",
       "      <td>0.0</td>\n",
       "      <td>-515.915000</td>\n",
       "      <td>2.565290</td>\n",
       "      <td>2.754530</td>\n",
       "      <td>2.814600</td>\n",
       "      <td>...</td>\n",
       "      <td>8.720350</td>\n",
       "      <td>10.885900</td>\n",
       "      <td>15.471400</td>\n",
       "      <td>13.813700</td>\n",
       "      <td>8.480520</td>\n",
       "      <td>9.740320</td>\n",
       "      <td>12.014400</td>\n",
       "      <td>7.308730</td>\n",
       "      <td>6.243000</td>\n",
       "      <td>8.973030</td>\n",
       "    </tr>\n",
       "    <tr>\n",
       "      <th>25%</th>\n",
       "      <td>512.161750</td>\n",
       "      <td>0.866497</td>\n",
       "      <td>0.404027</td>\n",
       "      <td>3.000000</td>\n",
       "      <td>7.000000</td>\n",
       "      <td>0.0</td>\n",
       "      <td>-510.422500</td>\n",
       "      <td>3.523367</td>\n",
       "      <td>3.457650</td>\n",
       "      <td>3.490162</td>\n",
       "      <td>...</td>\n",
       "      <td>19.974300</td>\n",
       "      <td>20.917950</td>\n",
       "      <td>26.460575</td>\n",
       "      <td>26.616225</td>\n",
       "      <td>18.818900</td>\n",
       "      <td>17.917475</td>\n",
       "      <td>22.171725</td>\n",
       "      <td>16.986125</td>\n",
       "      <td>13.871550</td>\n",
       "      <td>19.146300</td>\n",
       "    </tr>\n",
       "    <tr>\n",
       "      <th>50%</th>\n",
       "      <td>513.873000</td>\n",
       "      <td>0.942090</td>\n",
       "      <td>0.416341</td>\n",
       "      <td>3.000000</td>\n",
       "      <td>7.000000</td>\n",
       "      <td>0.0</td>\n",
       "      <td>-508.292500</td>\n",
       "      <td>3.733270</td>\n",
       "      <td>3.639515</td>\n",
       "      <td>3.623715</td>\n",
       "      <td>...</td>\n",
       "      <td>23.155300</td>\n",
       "      <td>24.122900</td>\n",
       "      <td>29.993100</td>\n",
       "      <td>30.101850</td>\n",
       "      <td>21.712200</td>\n",
       "      <td>20.863450</td>\n",
       "      <td>25.332000</td>\n",
       "      <td>19.885200</td>\n",
       "      <td>16.404800</td>\n",
       "      <td>22.102950</td>\n",
       "    </tr>\n",
       "    <tr>\n",
       "      <th>75%</th>\n",
       "      <td>515.297250</td>\n",
       "      <td>0.983103</td>\n",
       "      <td>0.424910</td>\n",
       "      <td>3.000000</td>\n",
       "      <td>15.000000</td>\n",
       "      <td>0.0</td>\n",
       "      <td>-505.999000</td>\n",
       "      <td>3.935437</td>\n",
       "      <td>3.813978</td>\n",
       "      <td>3.760817</td>\n",
       "      <td>...</td>\n",
       "      <td>26.321525</td>\n",
       "      <td>27.438975</td>\n",
       "      <td>33.961475</td>\n",
       "      <td>33.943075</td>\n",
       "      <td>24.808625</td>\n",
       "      <td>24.015800</td>\n",
       "      <td>28.778475</td>\n",
       "      <td>22.932875</td>\n",
       "      <td>19.143825</td>\n",
       "      <td>25.367925</td>\n",
       "    </tr>\n",
       "    <tr>\n",
       "      <th>max</th>\n",
       "      <td>518.643000</td>\n",
       "      <td>1.000000</td>\n",
       "      <td>0.436765</td>\n",
       "      <td>5.000000</td>\n",
       "      <td>47.000000</td>\n",
       "      <td>0.0</td>\n",
       "      <td>-492.362000</td>\n",
       "      <td>4.754510</td>\n",
       "      <td>4.634490</td>\n",
       "      <td>4.271820</td>\n",
       "      <td>...</td>\n",
       "      <td>42.811600</td>\n",
       "      <td>44.534400</td>\n",
       "      <td>52.889100</td>\n",
       "      <td>55.491800</td>\n",
       "      <td>41.658500</td>\n",
       "      <td>40.011400</td>\n",
       "      <td>45.757000</td>\n",
       "      <td>36.785900</td>\n",
       "      <td>33.445700</td>\n",
       "      <td>42.116200</td>\n",
       "    </tr>\n",
       "  </tbody>\n",
       "</table>\n",
       "<p>8 rows × 28 columns</p>\n",
       "</div>"
      ],
      "text/plain": [
       "              lp__  accept_stat__   stepsize__  treedepth__  n_leapfrog__  \\\n",
       "count  4000.000000    4000.000000  4000.000000  4000.000000   4000.000000   \n",
       "mean    513.568088       0.909515     0.412596     3.119250      9.678000   \n",
       "std       2.349708       0.098054     0.020356     0.354346      4.098843   \n",
       "min     502.124000       0.302458     0.380937     2.000000      3.000000   \n",
       "25%     512.161750       0.866497     0.404027     3.000000      7.000000   \n",
       "50%     513.873000       0.942090     0.416341     3.000000      7.000000   \n",
       "75%     515.297250       0.983103     0.424910     3.000000     15.000000   \n",
       "max     518.643000       1.000000     0.436765     5.000000     47.000000   \n",
       "\n",
       "       divergent__     energy__     alpha[1]     alpha[2]     alpha[3]  ...  \\\n",
       "count       4000.0  4000.000000  4000.000000  4000.000000  4000.000000  ...   \n",
       "mean           0.0  -508.003823     3.730020     3.633467     3.623425  ...   \n",
       "std            0.0     3.305586     0.302997     0.263413     0.199479  ...   \n",
       "min            0.0  -515.915000     2.565290     2.754530     2.814600  ...   \n",
       "25%            0.0  -510.422500     3.523367     3.457650     3.490162  ...   \n",
       "50%            0.0  -508.292500     3.733270     3.639515     3.623715  ...   \n",
       "75%            0.0  -505.999000     3.935437     3.813978     3.760817  ...   \n",
       "max            0.0  -492.362000     4.754510     4.634490     4.271820  ...   \n",
       "\n",
       "        lambdas[1]   lambdas[2]   lambdas[3]   lambdas[4]   lambdas[5]  \\\n",
       "count  4000.000000  4000.000000  4000.000000  4000.000000  4000.000000   \n",
       "mean     23.339240    24.403051    30.472294    30.472241    22.000416   \n",
       "std       4.710593     4.875814     5.562338     5.454795     4.571716   \n",
       "min       8.720350    10.885900    15.471400    13.813700     8.480520   \n",
       "25%      19.974300    20.917950    26.460575    26.616225    18.818900   \n",
       "50%      23.155300    24.122900    29.993100    30.101850    21.712200   \n",
       "75%      26.321525    27.438975    33.961475    33.943075    24.808625   \n",
       "max      42.811600    44.534400    52.889100    55.491800    41.658500   \n",
       "\n",
       "        lambdas[6]   lambdas[7]   lambdas[8]   lambdas[9]  lambdas[10]  \n",
       "count  4000.000000  4000.000000  4000.000000  4000.000000  4000.000000  \n",
       "mean     21.150155    25.694079    20.134864    16.701810    22.398381  \n",
       "std       4.513736     5.062428     4.356778     4.005664     4.649686  \n",
       "min       9.740320    12.014400     7.308730     6.243000     8.973030  \n",
       "25%      17.917475    22.171725    16.986125    13.871550    19.146300  \n",
       "50%      20.863450    25.332000    19.885200    16.404800    22.102950  \n",
       "75%      24.015800    28.778475    22.932875    19.143825    25.367925  \n",
       "max      40.011400    45.757000    36.785900    33.445700    42.116200  \n",
       "\n",
       "[8 rows x 28 columns]"
      ]
     },
     "execution_count": 142,
     "metadata": {},
     "output_type": "execute_result"
    }
   ],
   "source": [
    "fit_df = airline_fit.draws_pd()\n",
    "fit_df.describe()"
   ]
  },
  {
   "cell_type": "code",
   "execution_count": 143,
   "metadata": {},
   "outputs": [
    {
     "data": {
      "text/html": [
       "<div>\n",
       "<style scoped>\n",
       "    .dataframe tbody tr th:only-of-type {\n",
       "        vertical-align: middle;\n",
       "    }\n",
       "\n",
       "    .dataframe tbody tr th {\n",
       "        vertical-align: top;\n",
       "    }\n",
       "\n",
       "    .dataframe thead th {\n",
       "        text-align: right;\n",
       "    }\n",
       "</style>\n",
       "<table border=\"1\" class=\"dataframe\">\n",
       "  <thead>\n",
       "    <tr style=\"text-align: right;\">\n",
       "      <th></th>\n",
       "      <th>lp__</th>\n",
       "      <th>accept_stat__</th>\n",
       "      <th>stepsize__</th>\n",
       "      <th>treedepth__</th>\n",
       "      <th>n_leapfrog__</th>\n",
       "      <th>divergent__</th>\n",
       "      <th>energy__</th>\n",
       "      <th>alpha[1]</th>\n",
       "      <th>alpha[2]</th>\n",
       "      <th>alpha[3]</th>\n",
       "      <th>...</th>\n",
       "      <th>lambdas[1]</th>\n",
       "      <th>lambdas[2]</th>\n",
       "      <th>lambdas[3]</th>\n",
       "      <th>lambdas[4]</th>\n",
       "      <th>lambdas[5]</th>\n",
       "      <th>lambdas[6]</th>\n",
       "      <th>lambdas[7]</th>\n",
       "      <th>lambdas[8]</th>\n",
       "      <th>lambdas[9]</th>\n",
       "      <th>lambdas[10]</th>\n",
       "    </tr>\n",
       "  </thead>\n",
       "  <tbody>\n",
       "    <tr>\n",
       "      <th>0</th>\n",
       "      <td>515.660</td>\n",
       "      <td>0.927507</td>\n",
       "      <td>0.411724</td>\n",
       "      <td>3.0</td>\n",
       "      <td>7.0</td>\n",
       "      <td>0.0</td>\n",
       "      <td>-510.773</td>\n",
       "      <td>3.70016</td>\n",
       "      <td>3.55377</td>\n",
       "      <td>3.90352</td>\n",
       "      <td>...</td>\n",
       "      <td>22.4929</td>\n",
       "      <td>22.3147</td>\n",
       "      <td>39.8576</td>\n",
       "      <td>28.9609</td>\n",
       "      <td>22.2969</td>\n",
       "      <td>24.5853</td>\n",
       "      <td>23.5376</td>\n",
       "      <td>25.6860</td>\n",
       "      <td>23.1479</td>\n",
       "      <td>22.5761</td>\n",
       "    </tr>\n",
       "    <tr>\n",
       "      <th>1</th>\n",
       "      <td>515.839</td>\n",
       "      <td>0.937607</td>\n",
       "      <td>0.411724</td>\n",
       "      <td>3.0</td>\n",
       "      <td>7.0</td>\n",
       "      <td>0.0</td>\n",
       "      <td>-511.509</td>\n",
       "      <td>3.81239</td>\n",
       "      <td>3.45278</td>\n",
       "      <td>3.73004</td>\n",
       "      <td>...</td>\n",
       "      <td>29.4517</td>\n",
       "      <td>22.7480</td>\n",
       "      <td>35.5280</td>\n",
       "      <td>25.8731</td>\n",
       "      <td>26.8418</td>\n",
       "      <td>24.7748</td>\n",
       "      <td>24.1668</td>\n",
       "      <td>17.2135</td>\n",
       "      <td>14.6762</td>\n",
       "      <td>18.8805</td>\n",
       "    </tr>\n",
       "    <tr>\n",
       "      <th>2</th>\n",
       "      <td>516.077</td>\n",
       "      <td>0.935158</td>\n",
       "      <td>0.411724</td>\n",
       "      <td>3.0</td>\n",
       "      <td>15.0</td>\n",
       "      <td>0.0</td>\n",
       "      <td>-510.464</td>\n",
       "      <td>3.84359</td>\n",
       "      <td>3.72747</td>\n",
       "      <td>3.56465</td>\n",
       "      <td>...</td>\n",
       "      <td>23.5802</td>\n",
       "      <td>24.6659</td>\n",
       "      <td>27.4033</td>\n",
       "      <td>38.6331</td>\n",
       "      <td>24.7310</td>\n",
       "      <td>14.5436</td>\n",
       "      <td>25.0533</td>\n",
       "      <td>16.7279</td>\n",
       "      <td>16.2463</td>\n",
       "      <td>23.0085</td>\n",
       "    </tr>\n",
       "    <tr>\n",
       "      <th>3</th>\n",
       "      <td>516.013</td>\n",
       "      <td>0.833155</td>\n",
       "      <td>0.411724</td>\n",
       "      <td>3.0</td>\n",
       "      <td>7.0</td>\n",
       "      <td>0.0</td>\n",
       "      <td>-507.591</td>\n",
       "      <td>3.86355</td>\n",
       "      <td>3.64651</td>\n",
       "      <td>3.45061</td>\n",
       "      <td>...</td>\n",
       "      <td>23.1188</td>\n",
       "      <td>22.0676</td>\n",
       "      <td>24.0916</td>\n",
       "      <td>34.7099</td>\n",
       "      <td>25.1054</td>\n",
       "      <td>15.5248</td>\n",
       "      <td>24.4514</td>\n",
       "      <td>21.2511</td>\n",
       "      <td>16.5165</td>\n",
       "      <td>17.6793</td>\n",
       "    </tr>\n",
       "    <tr>\n",
       "      <th>4</th>\n",
       "      <td>513.841</td>\n",
       "      <td>0.938824</td>\n",
       "      <td>0.411724</td>\n",
       "      <td>3.0</td>\n",
       "      <td>7.0</td>\n",
       "      <td>0.0</td>\n",
       "      <td>-510.962</td>\n",
       "      <td>3.99290</td>\n",
       "      <td>3.70754</td>\n",
       "      <td>3.94874</td>\n",
       "      <td>...</td>\n",
       "      <td>26.6066</td>\n",
       "      <td>23.6571</td>\n",
       "      <td>39.8111</td>\n",
       "      <td>29.6149</td>\n",
       "      <td>19.4047</td>\n",
       "      <td>28.7329</td>\n",
       "      <td>20.7695</td>\n",
       "      <td>21.1528</td>\n",
       "      <td>11.4222</td>\n",
       "      <td>27.4475</td>\n",
       "    </tr>\n",
       "  </tbody>\n",
       "</table>\n",
       "<p>5 rows × 28 columns</p>\n",
       "</div>"
      ],
      "text/plain": [
       "      lp__  accept_stat__  stepsize__  treedepth__  n_leapfrog__  divergent__  \\\n",
       "0  515.660       0.927507    0.411724          3.0           7.0          0.0   \n",
       "1  515.839       0.937607    0.411724          3.0           7.0          0.0   \n",
       "2  516.077       0.935158    0.411724          3.0          15.0          0.0   \n",
       "3  516.013       0.833155    0.411724          3.0           7.0          0.0   \n",
       "4  513.841       0.938824    0.411724          3.0           7.0          0.0   \n",
       "\n",
       "   energy__  alpha[1]  alpha[2]  alpha[3]  ...  lambdas[1]  lambdas[2]  \\\n",
       "0  -510.773   3.70016   3.55377   3.90352  ...     22.4929     22.3147   \n",
       "1  -511.509   3.81239   3.45278   3.73004  ...     29.4517     22.7480   \n",
       "2  -510.464   3.84359   3.72747   3.56465  ...     23.5802     24.6659   \n",
       "3  -507.591   3.86355   3.64651   3.45061  ...     23.1188     22.0676   \n",
       "4  -510.962   3.99290   3.70754   3.94874  ...     26.6066     23.6571   \n",
       "\n",
       "   lambdas[3]  lambdas[4]  lambdas[5]  lambdas[6]  lambdas[7]  lambdas[8]  \\\n",
       "0     39.8576     28.9609     22.2969     24.5853     23.5376     25.6860   \n",
       "1     35.5280     25.8731     26.8418     24.7748     24.1668     17.2135   \n",
       "2     27.4033     38.6331     24.7310     14.5436     25.0533     16.7279   \n",
       "3     24.0916     34.7099     25.1054     15.5248     24.4514     21.2511   \n",
       "4     39.8111     29.6149     19.4047     28.7329     20.7695     21.1528   \n",
       "\n",
       "   lambdas[9]  lambdas[10]  \n",
       "0     23.1479      22.5761  \n",
       "1     14.6762      18.8805  \n",
       "2     16.2463      23.0085  \n",
       "3     16.5165      17.6793  \n",
       "4     11.4222      27.4475  \n",
       "\n",
       "[5 rows x 28 columns]"
      ]
     },
     "execution_count": 143,
     "metadata": {},
     "output_type": "execute_result"
    }
   ],
   "source": [
    "fit_df.head(5)"
   ]
  },
  {
   "cell_type": "code",
   "execution_count": 144,
   "metadata": {},
   "outputs": [],
   "source": [
    "fit_lambdas = fit_df.loc[:, \"lambdas[1]\":\"lambdas[10]\"]"
   ]
  },
  {
   "cell_type": "code",
   "execution_count": 145,
   "metadata": {},
   "outputs": [
    {
     "data": {
      "image/png": "[encoded data removed]",
      "text/plain": [
       "<Figure size 1080x2160 with 10 Axes>"
      ]
     },
     "metadata": {
      "needs_background": "light"
     },
     "output_type": "display_data"
    }
   ],
   "source": [
    "fig, ax = plt.subplots(int(len(years)/2), 2, figsize=(15, 30), constrained_layout=True)\n",
    "ax = ax.flatten()\n",
    "\n",
    "for i, axis in enumerate(ax):\n",
    "    axis.hist(fit_lambdas[f\"lambdas[{i+1}]\"].values, density=True, color='b', label='sampled accident number')\n",
    "    axis.axvline(x=accidents[i], color='r', label='real accident number')\n",
    "    axis.set_xlabel('accidents')\n",
    "    axis.set_ylabel('accident sample distribution')\n",
    "    axis.set_title(f'year: {years[i]}')\n",
    "    axis.legend()\n",
    "fig.suptitle(\"Airline accidents model 2\")\n",
    "plt.show()"
   ]
  },
  {
   "cell_type": "markdown",
   "metadata": {},
   "source": [
    "This model fits way better, which can be directly correlated with making the alpha parameter separate for each year. It does make intuitive sense, as there is no reason why the ammount of accidents _shouldn't_ vary over a couple of years. This is what we observe.  \n",
    "\n",
    "The predictions are consistant with observed data for each year, as the model can fit better to the miles flown parameter. This makes intuitive sense, as the more miles are flown, the more the machines depreciate and the more failures (and human errors) can happen.\n",
    "\n",
    "I would say this is a successful model for predicting this phenomenon."
   ]
  }
 ],
 "metadata": {
  "kernelspec": {
   "display_name": "Python 3",
   "language": "python",
   "name": "python3"
  },
  "language_info": {
   "codemirror_mode": {
    "name": "ipython",
    "version": 3
   },
   "file_extension": ".py",
   "mimetype": "text/x-python",
   "name": "python",
   "nbconvert_exporter": "python",
   "pygments_lexer": "ipython3",
   "version": "3.9.11"
  },
  "orig_nbformat": 4
 },
 "nbformat": 4,
 "nbformat_minor": 2
}
