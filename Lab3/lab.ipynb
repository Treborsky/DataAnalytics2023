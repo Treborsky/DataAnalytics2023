{
 "cells": [
  {
   "attachments": {},
   "cell_type": "markdown",
   "metadata": {},
   "source": [
    "# Prior and posterior predictive distributions"
   ]
  },
  {
   "cell_type": "code",
   "execution_count": 3,
   "metadata": {},
   "outputs": [],
   "source": [
    "from cmdstanpy import CmdStanModel\n",
    "import pandas as pd\n",
    "import numpy as np\n",
    "import arviz as az\n",
    "from matplotlib import pyplot as plt\n",
    "import scipy.stats as stats"
   ]
  },
  {
   "attachments": {},
   "cell_type": "markdown",
   "metadata": {},
   "source": [
    "## Prior distribution selection"
   ]
  },
  {
   "cell_type": "code",
   "execution_count": 4,
   "metadata": {},
   "outputs": [
    {
     "data": {
      "text/plain": [
       "0.2"
      ]
     },
     "execution_count": 4,
     "metadata": {},
     "output_type": "execute_result"
    }
   ],
   "source": [
    "# since there are 20% reactions on average, we're looking at a distribution with mean=0.2\n",
    "# the beta distribution has an average equal to a/(a+b), so we can easily find a suitable pair of parameters\n",
    "# for example:\n",
    "mean, *_ = stats.beta.stats(a=4, b=16)\n",
    "mean\n",
    "# let's use this pair of params"
   ]
  },
  {
   "cell_type": "code",
   "execution_count": 5,
   "metadata": {},
   "outputs": [
    {
     "data": {
      "image/png": "[encoded data removed]",
      "text/plain": [
       "<Figure size 432x288 with 1 Axes>"
      ]
     },
     "metadata": {
      "needs_background": "light"
     },
     "output_type": "display_data"
    }
   ],
   "source": [
    "x = np.linspace(0, 1, 1000)\n",
    "rv = stats.beta(a=4, b=16)\n",
    "plt.plot(x, rv.pdf(x), 'b', lw=2)\n",
    "plt.axvline(x=mean, color='r', label='mean')\n",
    "plt.title('Beta dist for a=2 and b=8')\n",
    "plt.grid()\n",
    "plt.legend()\n",
    "plt.show()"
   ]
  },
  {
   "attachments": {},
   "cell_type": "markdown",
   "metadata": {},
   "source": [
    "## Modelling prior distribution"
   ]
  },
  {
   "cell_type": "code",
   "execution_count": 23,
   "metadata": {},
   "outputs": [
    {
     "name": "stdout",
     "output_type": "stream",
     "text": [
      "Overwriting model_1.stan\n"
     ]
    }
   ],
   "source": [
    "%%writefile model_1.stan\n",
    "\n",
    "generated quantities {\n",
    "  int<lower=0> N = 50; \n",
    "  real<lower=0, upper=1> p = beta_rng(4, 16); \n",
    "  int<lower=0, upper=N> y = binomial_rng(N, p);\n",
    "}\n"
   ]
  },
  {
   "cell_type": "code",
   "execution_count": 24,
   "metadata": {},
   "outputs": [
    {
     "name": "stderr",
     "output_type": "stream",
     "text": [
      "INFO:cmdstanpy:compiling stan file /home/labs/DataAnalytics2023/Lab3/model_1.stan to exe file /home/labs/DataAnalytics2023/Lab3/model_1\n"
     ]
    },
    {
     "name": "stderr",
     "output_type": "stream",
     "text": [
      "INFO:cmdstanpy:compiled model executable: /home/labs/DataAnalytics2023/Lab3/model_1\n"
     ]
    }
   ],
   "source": [
    "gen_quant = CmdStanModel(stan_file='model_1.stan')"
   ]
  },
  {
   "cell_type": "code",
   "execution_count": 28,
   "metadata": {},
   "outputs": [
    {
     "name": "stderr",
     "output_type": "stream",
     "text": [
      "INFO:cmdstanpy:CmdStan start processing\n",
      "chain 1 |\u001b[34m██████████\u001b[0m| 00:00 Sampling completed"
     ]
    },
    {
     "name": "stdout",
     "output_type": "stream",
     "text": [
      "                                                                                "
     ]
    },
    {
     "name": "stderr",
     "output_type": "stream",
     "text": [
      "\n",
      "INFO:cmdstanpy:CmdStan done processing.\n"
     ]
    },
    {
     "name": "stdout",
     "output_type": "stream",
     "text": [
      "\n"
     ]
    }
   ],
   "source": [
    "samples = gen_quant.sample(iter_sampling=1000, chains=1)"
   ]
  },
  {
   "cell_type": "code",
   "execution_count": 29,
   "metadata": {},
   "outputs": [
    {
     "data": {
      "text/html": [
       "<div>\n",
       "<style scoped>\n",
       "    .dataframe tbody tr th:only-of-type {\n",
       "        vertical-align: middle;\n",
       "    }\n",
       "\n",
       "    .dataframe tbody tr th {\n",
       "        vertical-align: top;\n",
       "    }\n",
       "\n",
       "    .dataframe thead th {\n",
       "        text-align: right;\n",
       "    }\n",
       "</style>\n",
       "<table border=\"1\" class=\"dataframe\">\n",
       "  <thead>\n",
       "    <tr style=\"text-align: right;\">\n",
       "      <th></th>\n",
       "      <th>lp__</th>\n",
       "      <th>accept_stat__</th>\n",
       "      <th>N</th>\n",
       "      <th>p</th>\n",
       "      <th>y</th>\n",
       "    </tr>\n",
       "  </thead>\n",
       "  <tbody>\n",
       "    <tr>\n",
       "      <th>0</th>\n",
       "      <td>0.0</td>\n",
       "      <td>0.0</td>\n",
       "      <td>50.0</td>\n",
       "      <td>0.168899</td>\n",
       "      <td>6.0</td>\n",
       "    </tr>\n",
       "    <tr>\n",
       "      <th>1</th>\n",
       "      <td>0.0</td>\n",
       "      <td>0.0</td>\n",
       "      <td>50.0</td>\n",
       "      <td>0.180324</td>\n",
       "      <td>10.0</td>\n",
       "    </tr>\n",
       "    <tr>\n",
       "      <th>2</th>\n",
       "      <td>0.0</td>\n",
       "      <td>0.0</td>\n",
       "      <td>50.0</td>\n",
       "      <td>0.074477</td>\n",
       "      <td>2.0</td>\n",
       "    </tr>\n",
       "    <tr>\n",
       "      <th>3</th>\n",
       "      <td>0.0</td>\n",
       "      <td>0.0</td>\n",
       "      <td>50.0</td>\n",
       "      <td>0.288559</td>\n",
       "      <td>11.0</td>\n",
       "    </tr>\n",
       "    <tr>\n",
       "      <th>4</th>\n",
       "      <td>0.0</td>\n",
       "      <td>0.0</td>\n",
       "      <td>50.0</td>\n",
       "      <td>0.127593</td>\n",
       "      <td>6.0</td>\n",
       "    </tr>\n",
       "  </tbody>\n",
       "</table>\n",
       "</div>"
      ],
      "text/plain": [
       "   lp__  accept_stat__     N         p     y\n",
       "0   0.0            0.0  50.0  0.168899   6.0\n",
       "1   0.0            0.0  50.0  0.180324  10.0\n",
       "2   0.0            0.0  50.0  0.074477   2.0\n",
       "3   0.0            0.0  50.0  0.288559  11.0\n",
       "4   0.0            0.0  50.0  0.127593   6.0"
      ]
     },
     "execution_count": 29,
     "metadata": {},
     "output_type": "execute_result"
    }
   ],
   "source": [
    "df = samples.draws_pd()\n",
    "df.head()"
   ]
  },
  {
   "cell_type": "code",
   "execution_count": 30,
   "metadata": {},
   "outputs": [
    {
     "data": {
      "text/html": [
       "<div>\n",
       "<style scoped>\n",
       "    .dataframe tbody tr th:only-of-type {\n",
       "        vertical-align: middle;\n",
       "    }\n",
       "\n",
       "    .dataframe tbody tr th {\n",
       "        vertical-align: top;\n",
       "    }\n",
       "\n",
       "    .dataframe thead th {\n",
       "        text-align: right;\n",
       "    }\n",
       "</style>\n",
       "<table border=\"1\" class=\"dataframe\">\n",
       "  <thead>\n",
       "    <tr style=\"text-align: right;\">\n",
       "      <th></th>\n",
       "      <th>lp__</th>\n",
       "      <th>accept_stat__</th>\n",
       "      <th>N</th>\n",
       "      <th>p</th>\n",
       "      <th>y</th>\n",
       "    </tr>\n",
       "  </thead>\n",
       "  <tbody>\n",
       "    <tr>\n",
       "      <th>count</th>\n",
       "      <td>1000.0</td>\n",
       "      <td>1000.0</td>\n",
       "      <td>1000.0</td>\n",
       "      <td>1000.000000</td>\n",
       "      <td>1000.000000</td>\n",
       "    </tr>\n",
       "    <tr>\n",
       "      <th>mean</th>\n",
       "      <td>0.0</td>\n",
       "      <td>0.0</td>\n",
       "      <td>50.0</td>\n",
       "      <td>0.204386</td>\n",
       "      <td>10.227000</td>\n",
       "    </tr>\n",
       "    <tr>\n",
       "      <th>std</th>\n",
       "      <td>0.0</td>\n",
       "      <td>0.0</td>\n",
       "      <td>0.0</td>\n",
       "      <td>0.089120</td>\n",
       "      <td>5.249288</td>\n",
       "    </tr>\n",
       "    <tr>\n",
       "      <th>min</th>\n",
       "      <td>0.0</td>\n",
       "      <td>0.0</td>\n",
       "      <td>50.0</td>\n",
       "      <td>0.018904</td>\n",
       "      <td>0.000000</td>\n",
       "    </tr>\n",
       "    <tr>\n",
       "      <th>25%</th>\n",
       "      <td>0.0</td>\n",
       "      <td>0.0</td>\n",
       "      <td>50.0</td>\n",
       "      <td>0.140095</td>\n",
       "      <td>6.000000</td>\n",
       "    </tr>\n",
       "    <tr>\n",
       "      <th>50%</th>\n",
       "      <td>0.0</td>\n",
       "      <td>0.0</td>\n",
       "      <td>50.0</td>\n",
       "      <td>0.191485</td>\n",
       "      <td>10.000000</td>\n",
       "    </tr>\n",
       "    <tr>\n",
       "      <th>75%</th>\n",
       "      <td>0.0</td>\n",
       "      <td>0.0</td>\n",
       "      <td>50.0</td>\n",
       "      <td>0.258310</td>\n",
       "      <td>13.000000</td>\n",
       "    </tr>\n",
       "    <tr>\n",
       "      <th>max</th>\n",
       "      <td>0.0</td>\n",
       "      <td>0.0</td>\n",
       "      <td>50.0</td>\n",
       "      <td>0.596084</td>\n",
       "      <td>35.000000</td>\n",
       "    </tr>\n",
       "  </tbody>\n",
       "</table>\n",
       "</div>"
      ],
      "text/plain": [
       "         lp__  accept_stat__       N            p            y\n",
       "count  1000.0         1000.0  1000.0  1000.000000  1000.000000\n",
       "mean      0.0            0.0    50.0     0.204386    10.227000\n",
       "std       0.0            0.0     0.0     0.089120     5.249288\n",
       "min       0.0            0.0    50.0     0.018904     0.000000\n",
       "25%       0.0            0.0    50.0     0.140095     6.000000\n",
       "50%       0.0            0.0    50.0     0.191485    10.000000\n",
       "75%       0.0            0.0    50.0     0.258310    13.000000\n",
       "max       0.0            0.0    50.0     0.596084    35.000000"
      ]
     },
     "execution_count": 30,
     "metadata": {},
     "output_type": "execute_result"
    }
   ],
   "source": [
    "df.describe()"
   ]
  },
  {
   "cell_type": "code",
   "execution_count": 31,
   "metadata": {},
   "outputs": [
    {
     "name": "stdout",
     "output_type": "stream",
     "text": [
      "mean from generated samples: [0.20454000000000003]\n",
      "difference to the exact value of 0.2: [0.004540000000000016]\n",
      "expressed as percentage of 0.2: [2.270000000000008]\n"
     ]
    }
   ],
   "source": [
    "df['ratio'] = df.y / 50\n",
    "mean = df['ratio'].mean()\n",
    "print(f\"mean from generated samples: [{mean}]\")\n",
    "print(f\"difference to the exact value of 0.2: [{abs(mean - 0.2)}]\")\n",
    "print(f\"expressed as percentage of 0.2: [{abs(mean - 0.2)/0.2 * 100.0}]\")\n",
    "# as we can see the percentage error quite small"
   ]
  },
  {
   "cell_type": "code",
   "execution_count": 32,
   "metadata": {},
   "outputs": [
    {
     "data": {
      "image/png": "[encoded data removed]",
      "text/plain": [
       "<Figure size 432x288 with 1 Axes>"
      ]
     },
     "metadata": {
      "needs_background": "light"
     },
     "output_type": "display_data"
    }
   ],
   "source": [
    "df['ratio'].hist(bins=10)\n",
    "plt.axvline(x=mean, color ='r', label='average ratio')\n",
    "plt.xlabel(\"y/N\")\n",
    "plt.title('Ratio of allergic reactions per sample (histogram)')\n",
    "plt.legend()\n",
    "plt.show()\n",
    "# the average (as well as the general shape of the histogram) seems to be aligned with the prior beta distribution"
   ]
  },
  {
   "attachments": {},
   "cell_type": "markdown",
   "metadata": {},
   "source": [
    "## Modeling posterior and posterior predictive distribution"
   ]
  },
  {
   "cell_type": "code",
   "execution_count": 33,
   "metadata": {},
   "outputs": [
    {
     "name": "stdout",
     "output_type": "stream",
     "text": [
      "Overwriting model_2.stan\n"
     ]
    }
   ],
   "source": [
    "%%writefile model_2.stan\n",
    "\n",
    "data {\n",
    "  int<lower=0> N;\n",
    "  int<lower=0, upper=N> y;\n",
    "}\n",
    "\n",
    "parameters {\n",
    "  real<lower=0, upper=1> p;\n",
    "}\n",
    "\n",
    "model {\n",
    "  p ~ beta(4, 12); // prior\n",
    "  y ~ binomial(N, p);\n",
    "}\n",
    "\n",
    "generated quantities {\n",
    "  int<lower=0, upper=N> y_pred = binomial_rng(N, p);\n",
    "}"
   ]
  },
  {
   "cell_type": "code",
   "execution_count": 34,
   "metadata": {},
   "outputs": [
    {
     "name": "stderr",
     "output_type": "stream",
     "text": [
      "INFO:cmdstanpy:compiling stan file /home/labs/DataAnalytics2023/Lab3/model_2.stan to exe file /home/labs/DataAnalytics2023/Lab3/model_2\n",
      "INFO:cmdstanpy:compiled model executable: /home/labs/DataAnalytics2023/Lab3/model_2\n"
     ]
    }
   ],
   "source": [
    "gen_quant = CmdStanModel(stan_file='model_2.stan')"
   ]
  },
  {
   "cell_type": "code",
   "execution_count": 35,
   "metadata": {},
   "outputs": [
    {
     "name": "stderr",
     "output_type": "stream",
     "text": [
      "INFO:cmdstanpy:CmdStan start processing\n",
      "chain 1 |\u001b[33m          \u001b[0m| 00:00 Status\n",
      "\u001b[A\n",
      "\n",
      "chain 1 |\u001b[33m▍         \u001b[0m| 00:00 Status"
     ]
    },
    {
     "name": "stderr",
     "output_type": "stream",
     "text": [
      "\n",
      "\u001b[A\n",
      "\n",
      "chain 1 |\u001b[34m██████████\u001b[0m| 00:00 Sampling completed                       \n",
      "chain 2 |\u001b[34m██████████\u001b[0m| 00:00 Sampling completed                       \n",
      "\n",
      "chain 3 |\u001b[34m██████████\u001b[0m| 00:00 Sampling completed\n",
      "chain 4 |\u001b[34m██████████\u001b[0m| 00:00 Sampling completed"
     ]
    },
    {
     "name": "stdout",
     "output_type": "stream",
     "text": [
      "                                                                                                                                                                                                                                                                                                                                "
     ]
    },
    {
     "name": "stderr",
     "output_type": "stream",
     "text": [
      "\n",
      "INFO:cmdstanpy:CmdStan done processing.\n"
     ]
    },
    {
     "name": "stdout",
     "output_type": "stream",
     "text": [
      "\n"
     ]
    }
   ],
   "source": [
    "samples = gen_quant.sample(data={'N': 50, 'y': 7})"
   ]
  },
  {
   "cell_type": "code",
   "execution_count": 36,
   "metadata": {},
   "outputs": [
    {
     "data": {
      "text/html": [
       "<div>\n",
       "<style scoped>\n",
       "    .dataframe tbody tr th:only-of-type {\n",
       "        vertical-align: middle;\n",
       "    }\n",
       "\n",
       "    .dataframe tbody tr th {\n",
       "        vertical-align: top;\n",
       "    }\n",
       "\n",
       "    .dataframe thead th {\n",
       "        text-align: right;\n",
       "    }\n",
       "</style>\n",
       "<table border=\"1\" class=\"dataframe\">\n",
       "  <thead>\n",
       "    <tr style=\"text-align: right;\">\n",
       "      <th></th>\n",
       "      <th>lp__</th>\n",
       "      <th>accept_stat__</th>\n",
       "      <th>stepsize__</th>\n",
       "      <th>treedepth__</th>\n",
       "      <th>n_leapfrog__</th>\n",
       "      <th>divergent__</th>\n",
       "      <th>energy__</th>\n",
       "      <th>p</th>\n",
       "      <th>y_pred</th>\n",
       "    </tr>\n",
       "  </thead>\n",
       "  <tbody>\n",
       "    <tr>\n",
       "      <th>0</th>\n",
       "      <td>-30.4811</td>\n",
       "      <td>0.934482</td>\n",
       "      <td>0.85881</td>\n",
       "      <td>2.0</td>\n",
       "      <td>3.0</td>\n",
       "      <td>0.0</td>\n",
       "      <td>30.8167</td>\n",
       "      <td>0.115882</td>\n",
       "      <td>5.0</td>\n",
       "    </tr>\n",
       "    <tr>\n",
       "      <th>1</th>\n",
       "      <td>-29.7469</td>\n",
       "      <td>0.981294</td>\n",
       "      <td>0.85881</td>\n",
       "      <td>1.0</td>\n",
       "      <td>3.0</td>\n",
       "      <td>0.0</td>\n",
       "      <td>30.6256</td>\n",
       "      <td>0.160304</td>\n",
       "      <td>7.0</td>\n",
       "    </tr>\n",
       "    <tr>\n",
       "      <th>2</th>\n",
       "      <td>-29.7632</td>\n",
       "      <td>0.991710</td>\n",
       "      <td>0.85881</td>\n",
       "      <td>1.0</td>\n",
       "      <td>3.0</td>\n",
       "      <td>0.0</td>\n",
       "      <td>29.8092</td>\n",
       "      <td>0.177343</td>\n",
       "      <td>13.0</td>\n",
       "    </tr>\n",
       "    <tr>\n",
       "      <th>3</th>\n",
       "      <td>-29.7483</td>\n",
       "      <td>0.995097</td>\n",
       "      <td>0.85881</td>\n",
       "      <td>1.0</td>\n",
       "      <td>3.0</td>\n",
       "      <td>0.0</td>\n",
       "      <td>29.8103</td>\n",
       "      <td>0.159867</td>\n",
       "      <td>10.0</td>\n",
       "    </tr>\n",
       "    <tr>\n",
       "      <th>4</th>\n",
       "      <td>-31.3722</td>\n",
       "      <td>0.809416</td>\n",
       "      <td>0.85881</td>\n",
       "      <td>2.0</td>\n",
       "      <td>3.0</td>\n",
       "      <td>0.0</td>\n",
       "      <td>31.4184</td>\n",
       "      <td>0.095192</td>\n",
       "      <td>5.0</td>\n",
       "    </tr>\n",
       "  </tbody>\n",
       "</table>\n",
       "</div>"
      ],
      "text/plain": [
       "      lp__  accept_stat__  stepsize__  treedepth__  n_leapfrog__  divergent__  \\\n",
       "0 -30.4811       0.934482     0.85881          2.0           3.0          0.0   \n",
       "1 -29.7469       0.981294     0.85881          1.0           3.0          0.0   \n",
       "2 -29.7632       0.991710     0.85881          1.0           3.0          0.0   \n",
       "3 -29.7483       0.995097     0.85881          1.0           3.0          0.0   \n",
       "4 -31.3722       0.809416     0.85881          2.0           3.0          0.0   \n",
       "\n",
       "   energy__         p  y_pred  \n",
       "0   30.8167  0.115882     5.0  \n",
       "1   30.6256  0.160304     7.0  \n",
       "2   29.8092  0.177343    13.0  \n",
       "3   29.8103  0.159867    10.0  \n",
       "4   31.4184  0.095192     5.0  "
      ]
     },
     "execution_count": 36,
     "metadata": {},
     "output_type": "execute_result"
    }
   ],
   "source": [
    "df = samples.draws_pd()\n",
    "df.head()"
   ]
  },
  {
   "cell_type": "code",
   "execution_count": 37,
   "metadata": {},
   "outputs": [
    {
     "data": {
      "text/html": [
       "<div>\n",
       "<style scoped>\n",
       "    .dataframe tbody tr th:only-of-type {\n",
       "        vertical-align: middle;\n",
       "    }\n",
       "\n",
       "    .dataframe tbody tr th {\n",
       "        vertical-align: top;\n",
       "    }\n",
       "\n",
       "    .dataframe thead th {\n",
       "        text-align: right;\n",
       "    }\n",
       "</style>\n",
       "<table border=\"1\" class=\"dataframe\">\n",
       "  <thead>\n",
       "    <tr style=\"text-align: right;\">\n",
       "      <th></th>\n",
       "      <th>lp__</th>\n",
       "      <th>accept_stat__</th>\n",
       "      <th>stepsize__</th>\n",
       "      <th>treedepth__</th>\n",
       "      <th>n_leapfrog__</th>\n",
       "      <th>divergent__</th>\n",
       "      <th>energy__</th>\n",
       "      <th>p</th>\n",
       "      <th>y_pred</th>\n",
       "    </tr>\n",
       "  </thead>\n",
       "  <tbody>\n",
       "    <tr>\n",
       "      <th>count</th>\n",
       "      <td>4000.000000</td>\n",
       "      <td>4000.000000</td>\n",
       "      <td>4000.000000</td>\n",
       "      <td>4000.000000</td>\n",
       "      <td>4000.000000</td>\n",
       "      <td>4000.0</td>\n",
       "      <td>4000.000000</td>\n",
       "      <td>4000.000000</td>\n",
       "      <td>4000.000000</td>\n",
       "    </tr>\n",
       "    <tr>\n",
       "      <th>mean</th>\n",
       "      <td>-30.231181</td>\n",
       "      <td>0.918709</td>\n",
       "      <td>0.982282</td>\n",
       "      <td>1.378250</td>\n",
       "      <td>2.497000</td>\n",
       "      <td>0.0</td>\n",
       "      <td>30.728832</td>\n",
       "      <td>0.166666</td>\n",
       "      <td>8.338500</td>\n",
       "    </tr>\n",
       "    <tr>\n",
       "      <th>std</th>\n",
       "      <td>0.712796</td>\n",
       "      <td>0.122773</td>\n",
       "      <td>0.079361</td>\n",
       "      <td>0.485011</td>\n",
       "      <td>1.158156</td>\n",
       "      <td>0.0</td>\n",
       "      <td>0.995576</td>\n",
       "      <td>0.044874</td>\n",
       "      <td>3.364112</td>\n",
       "    </tr>\n",
       "    <tr>\n",
       "      <th>min</th>\n",
       "      <td>-35.747200</td>\n",
       "      <td>0.022824</td>\n",
       "      <td>0.858810</td>\n",
       "      <td>1.000000</td>\n",
       "      <td>1.000000</td>\n",
       "      <td>0.0</td>\n",
       "      <td>29.737200</td>\n",
       "      <td>0.050167</td>\n",
       "      <td>0.000000</td>\n",
       "    </tr>\n",
       "    <tr>\n",
       "      <th>25%</th>\n",
       "      <td>-30.385675</td>\n",
       "      <td>0.889825</td>\n",
       "      <td>0.940723</td>\n",
       "      <td>1.000000</td>\n",
       "      <td>1.000000</td>\n",
       "      <td>0.0</td>\n",
       "      <td>30.019575</td>\n",
       "      <td>0.135579</td>\n",
       "      <td>6.000000</td>\n",
       "    </tr>\n",
       "    <tr>\n",
       "      <th>50%</th>\n",
       "      <td>-29.952550</td>\n",
       "      <td>0.969527</td>\n",
       "      <td>1.003953</td>\n",
       "      <td>1.000000</td>\n",
       "      <td>3.000000</td>\n",
       "      <td>0.0</td>\n",
       "      <td>30.421350</td>\n",
       "      <td>0.162663</td>\n",
       "      <td>8.000000</td>\n",
       "    </tr>\n",
       "    <tr>\n",
       "      <th>75%</th>\n",
       "      <td>-29.784000</td>\n",
       "      <td>1.000000</td>\n",
       "      <td>1.045513</td>\n",
       "      <td>2.000000</td>\n",
       "      <td>3.000000</td>\n",
       "      <td>0.0</td>\n",
       "      <td>31.113325</td>\n",
       "      <td>0.195735</td>\n",
       "      <td>10.000000</td>\n",
       "    </tr>\n",
       "    <tr>\n",
       "      <th>max</th>\n",
       "      <td>-29.737000</td>\n",
       "      <td>1.000000</td>\n",
       "      <td>1.062410</td>\n",
       "      <td>2.000000</td>\n",
       "      <td>7.000000</td>\n",
       "      <td>0.0</td>\n",
       "      <td>36.527100</td>\n",
       "      <td>0.355247</td>\n",
       "      <td>24.000000</td>\n",
       "    </tr>\n",
       "  </tbody>\n",
       "</table>\n",
       "</div>"
      ],
      "text/plain": [
       "              lp__  accept_stat__   stepsize__  treedepth__  n_leapfrog__  \\\n",
       "count  4000.000000    4000.000000  4000.000000  4000.000000   4000.000000   \n",
       "mean    -30.231181       0.918709     0.982282     1.378250      2.497000   \n",
       "std       0.712796       0.122773     0.079361     0.485011      1.158156   \n",
       "min     -35.747200       0.022824     0.858810     1.000000      1.000000   \n",
       "25%     -30.385675       0.889825     0.940723     1.000000      1.000000   \n",
       "50%     -29.952550       0.969527     1.003953     1.000000      3.000000   \n",
       "75%     -29.784000       1.000000     1.045513     2.000000      3.000000   \n",
       "max     -29.737000       1.000000     1.062410     2.000000      7.000000   \n",
       "\n",
       "       divergent__     energy__            p       y_pred  \n",
       "count       4000.0  4000.000000  4000.000000  4000.000000  \n",
       "mean           0.0    30.728832     0.166666     8.338500  \n",
       "std            0.0     0.995576     0.044874     3.364112  \n",
       "min            0.0    29.737200     0.050167     0.000000  \n",
       "25%            0.0    30.019575     0.135579     6.000000  \n",
       "50%            0.0    30.421350     0.162663     8.000000  \n",
       "75%            0.0    31.113325     0.195735    10.000000  \n",
       "max            0.0    36.527100     0.355247    24.000000  "
      ]
     },
     "execution_count": 37,
     "metadata": {},
     "output_type": "execute_result"
    }
   ],
   "source": [
    "df.describe()"
   ]
  },
  {
   "cell_type": "code",
   "execution_count": 38,
   "metadata": {},
   "outputs": [],
   "source": [
    "ratios = df['y_pred'] / 50\n",
    "ratios = ratios.to_numpy()"
   ]
  },
  {
   "cell_type": "code",
   "execution_count": 39,
   "metadata": {},
   "outputs": [
    {
     "data": {
      "image/png": "[encoded data removed]",
      "text/plain": [
       "<Figure size 432x288 with 1 Axes>"
      ]
     },
     "metadata": {
      "needs_background": "light"
     },
     "output_type": "display_data"
    }
   ],
   "source": [
    "az.plot_posterior(ratios, kind='hist', hdi_prob=0.94, point_estimate='mean')\n",
    "plt.show()"
   ]
  },
  {
   "cell_type": "code",
   "execution_count": 40,
   "metadata": {},
   "outputs": [
    {
     "name": "stdout",
     "output_type": "stream",
     "text": [
      "Predicted ratio: [mean:[0.16677], 94_HDI:[0.06 0.3 ]]\n",
      "Parameter p: [mean:[0.16666592065], 94_HDI:[0.082883 0.248006]]\n",
      "Probability that ratio is lower than average: [0.658]\n"
     ]
    }
   ],
   "source": [
    "p = df['p'].to_numpy()\n",
    "\n",
    "ratio_mean = np.mean(ratios)\n",
    "ratio_hdi = az.hdi(ratios, hdi_prob=0.94)\n",
    "\n",
    "p_mean = np.mean(p)\n",
    "p_hdi = az.hdi(p, hdi_prob=0.94)\n",
    "\n",
    "print(f\"Predicted ratio: [mean:[{ratio_mean}], 94_HDI:{ratio_hdi}]\")\n",
    "print(f\"Parameter p: [mean:[{p_mean}], 94_HDI:{p_hdi}]\")\n",
    "\n",
    "p_avg = 0.2\n",
    "ratio_prob = np.mean(ratios < p_avg)\n",
    "\n",
    "print(f\"Probability that ratio is lower than average: [{ratio_prob}]\")"
   ]
  }
 ],
 "metadata": {
  "kernelspec": {
   "display_name": "Python 3",
   "language": "python",
   "name": "python3"
  },
  "language_info": {
   "codemirror_mode": {
    "name": "ipython",
    "version": 3
   },
   "file_extension": ".py",
   "mimetype": "text/x-python",
   "name": "python",
   "nbconvert_exporter": "python",
   "pygments_lexer": "ipython3",
   "version": "3.9.11"
  },
  "orig_nbformat": 4,
  "vscode": {
   "interpreter": {
    "hash": "949777d72b0d2535278d3dc13498b2535136f6dfe0678499012e853ee9abcab1"
   }
  }
 },
 "nbformat": 4,
 "nbformat_minor": 2
}
